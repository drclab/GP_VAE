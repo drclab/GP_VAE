{
 "cells": [
  {
   "cell_type": "markdown",
   "metadata": {},
   "source": [
    "### housekeeping"
   ]
  },
  {
   "cell_type": "code",
   "execution_count": 1,
   "metadata": {},
   "outputs": [],
   "source": [
    "import os, sys"
   ]
  },
  {
   "cell_type": "code",
   "execution_count": 2,
   "metadata": {},
   "outputs": [],
   "source": [
    "cwd = os.getcwd()"
   ]
  },
  {
   "cell_type": "code",
   "execution_count": 3,
   "metadata": {},
   "outputs": [],
   "source": [
    "base_dir = os.path.abspath(os.path.join(cwd,'..'))  # parent dir"
   ]
  },
  {
   "cell_type": "code",
   "execution_count": 4,
   "metadata": {},
   "outputs": [],
   "source": [
    "sys.path.append(base_dir)"
   ]
  },
  {
   "cell_type": "code",
   "execution_count": 5,
   "metadata": {},
   "outputs": [],
   "source": [
    "import numpy as np"
   ]
  },
  {
   "cell_type": "code",
   "execution_count": 6,
   "metadata": {},
   "outputs": [],
   "source": [
    "import matplotlib.pyplot as plt"
   ]
  },
  {
   "cell_type": "code",
   "execution_count": 7,
   "metadata": {},
   "outputs": [],
   "source": [
    "import torch"
   ]
  },
  {
   "cell_type": "code",
   "execution_count": 8,
   "metadata": {},
   "outputs": [],
   "source": [
    "from torch.utils.data import Dataset, DataLoader"
   ]
  },
  {
   "cell_type": "code",
   "execution_count": 9,
   "metadata": {},
   "outputs": [],
   "source": [
    "from sklearn.gaussian_process import GaussianProcessRegressor\n",
    "from sklearn.gaussian_process.kernels import RBF, Matern"
   ]
  },
  {
   "cell_type": "markdown",
   "metadata": {},
   "source": [
    "### Initialization"
   ]
  },
  {
   "cell_type": "code",
   "execution_count": 25,
   "metadata": {},
   "outputs": [],
   "source": [
    "dataPoints = 100\n",
    "samples = 10000\n",
    "ingrid = False\n",
    "x_lim =1\n",
    "np.random.seed(20)\n",
    "kernel = 'rbf'\n",
    "ls = 0.1\n",
    "nu = 2.5"
   ]
  },
  {
   "cell_type": "markdown",
   "metadata": {},
   "source": [
    "## Gaussian Process"
   ]
  },
  {
   "cell_type": "code",
   "execution_count": 15,
   "metadata": {},
   "outputs": [],
   "source": [
    "if kernel == 'rbf':\n",
    "    gp = GaussianProcessRegressor(kernel=RBF(length_scale=ls))\n",
    "else:\n",
    "    gp = GaussianProcessRegressor(kernel=Matern(length_scale=ls, nu = nu))"
   ]
  },
  {
   "cell_type": "code",
   "execution_count": 26,
   "metadata": {},
   "outputs": [],
   "source": [
    "if (ingrid):\n",
    "    X_ = np.linspace(-x_lim, x_lim, dataPoints)\n",
    "    y_samples = gp.sample_y(X_[:, np.newaxis], samples)\n",
    "    eval_points = X_.repeat(samples).reshape(X_.shape[0], samples)\n",
    "    data = y_samples\n",
    "else:\n",
    "    X_ = np.linspace(-x_lim, x_lim, 2*dataPoints)\n",
    "    X_ = np.random.choice(X_, size=(dataPoints, samples))"
   ]
  },
  {
   "cell_type": "code",
   "execution_count": 27,
   "metadata": {},
   "outputs": [
    {
     "data": {
      "text/plain": [
       "array([[-0.00502513, -0.84924623,  0.5678392 , ..., -0.33668342,\n",
       "         0.91959799,  0.2160804 ],\n",
       "       [ 0.33668342,  0.92964824, -0.6281407 , ..., -0.40703518,\n",
       "         0.00502513, -0.01507538],\n",
       "       [-0.20603015, -0.2160804 ,  0.04522613, ..., -0.31658291,\n",
       "        -0.43718593,  0.81909548],\n",
       "       ...,\n",
       "       [ 0.20603015, -0.04522613, -0.09547739, ...,  0.86934673,\n",
       "         0.38693467, -0.50753769],\n",
       "       [-0.38693467, -0.72864322, -0.55778894, ...,  0.26633166,\n",
       "        -0.90954774,  0.34673367],\n",
       "       [-0.33668342,  0.13567839, -0.73869347, ..., -0.12562814,\n",
       "         0.49748744, -0.76884422]])"
      ]
     },
     "execution_count": 27,
     "metadata": {},
     "output_type": "execute_result"
    }
   ],
   "source": [
    "X_"
   ]
  }
 ],
 "metadata": {
  "kernelspec": {
   "display_name": "Python 3",
   "language": "python",
   "name": "python3"
  },
  "language_info": {
   "codemirror_mode": {
    "name": "ipython",
    "version": 3
   },
   "file_extension": ".py",
   "mimetype": "text/x-python",
   "name": "python",
   "nbconvert_exporter": "python",
   "pygments_lexer": "ipython3",
   "version": "3.10.6"
  },
  "orig_nbformat": 4,
  "vscode": {
   "interpreter": {
    "hash": "916dbcbb3f70747c44a77c7bcd40155683ae19c65e1c03b4aa3499c5328201f1"
   }
  }
 },
 "nbformat": 4,
 "nbformat_minor": 2
}
