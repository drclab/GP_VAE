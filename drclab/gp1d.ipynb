{
 "cells": [
  {
   "cell_type": "markdown",
   "metadata": {},
   "source": [
    "### housekeeping"
   ]
  },
  {
   "cell_type": "code",
   "execution_count": 1,
   "metadata": {},
   "outputs": [],
   "source": [
    "import os, sys"
   ]
  },
  {
   "cell_type": "code",
   "execution_count": 2,
   "metadata": {},
   "outputs": [],
   "source": [
    "cwd = os.getcwd()"
   ]
  },
  {
   "cell_type": "code",
   "execution_count": 3,
   "metadata": {},
   "outputs": [],
   "source": [
    "base_dir = os.path.abspath(os.path.join(cwd,'..'))  # parent dir"
   ]
  },
  {
   "cell_type": "code",
   "execution_count": 4,
   "metadata": {},
   "outputs": [],
   "source": [
    "sys.path.append(base_dir)"
   ]
  },
  {
   "cell_type": "code",
   "execution_count": 5,
   "metadata": {},
   "outputs": [],
   "source": [
    "import numpy as np"
   ]
  },
  {
   "cell_type": "code",
   "execution_count": 6,
   "metadata": {},
   "outputs": [],
   "source": [
    "import matplotlib.pyplot as plt"
   ]
  },
  {
   "cell_type": "code",
   "execution_count": 7,
   "metadata": {},
   "outputs": [],
   "source": [
    "import torch"
   ]
  },
  {
   "cell_type": "code",
   "execution_count": 8,
   "metadata": {},
   "outputs": [],
   "source": [
    "from torch.utils.data import Dataset, DataLoader"
   ]
  },
  {
   "cell_type": "code",
   "execution_count": 9,
   "metadata": {},
   "outputs": [],
   "source": [
    "from sklearn.gaussian_process import GaussianProcessRegressor\n",
    "from sklearn.gaussian_process.kernels import RBF, Matern"
   ]
  },
  {
   "cell_type": "markdown",
   "metadata": {},
   "source": [
    "### Initialization"
   ]
  },
  {
   "cell_type": "code",
   "execution_count": 10,
   "metadata": {},
   "outputs": [],
   "source": [
    "dataPoints = 100\n",
    "samples = 10000\n",
    "ingrid = False\n",
    "x_lim =1\n",
    "np.random.seed(20)\n",
    "kernel = 'rbf'\n",
    "ls = 0.1\n",
    "nu = 2.5"
   ]
  },
  {
   "cell_type": "markdown",
   "metadata": {},
   "source": [
    "## Gaussian Process"
   ]
  },
  {
   "cell_type": "code",
   "execution_count": 11,
   "metadata": {},
   "outputs": [],
   "source": [
    "if kernel == 'rbf':\n",
    "    gp = GaussianProcessRegressor(kernel=RBF(length_scale=ls))\n",
    "else:\n",
    "    gp = GaussianProcessRegressor(kernel=Matern(length_scale=ls, nu = nu))"
   ]
  },
  {
   "cell_type": "code",
   "execution_count": 12,
   "metadata": {},
   "outputs": [],
   "source": [
    "if (ingrid):\n",
    "    X_ = np.linspace(-x_lim, x_lim, dataPoints)\n",
    "    y_samples = gp.sample_y(X_[:, np.newaxis], samples)\n",
    "    eval_points = X_.repeat(samples).reshape(X_.shape[0], samples)\n",
    "    data = y_samples\n",
    "else:\n",
    "    X_ = np.linspace(-x_lim, x_lim, 2*dataPoints)\n",
    "    X_ = np.random.choice(X_, size=(dataPoints, samples))\n",
    "    X_.sort(axis=0)"
   ]
  },
  {
   "cell_type": "code",
   "execution_count": 13,
   "metadata": {},
   "outputs": [
    {
     "data": {
      "text/plain": [
       "array([[-1.        , -0.93969849, -0.95979899, ..., -1.        ,\n",
       "        -1.        , -0.9798995 ],\n",
       "       [-0.98994975, -0.90954774, -0.94974874, ..., -0.98994975,\n",
       "        -0.9798995 , -0.96984925],\n",
       "       [-0.9798995 , -0.89949749, -0.93969849, ..., -0.9798995 ,\n",
       "        -0.96984925, -0.90954774],\n",
       "       ...,\n",
       "       [ 0.93969849,  0.96984925,  0.9798995 , ...,  0.93969849,\n",
       "         0.9798995 ,  0.90954774],\n",
       "       [ 0.93969849,  0.98994975,  0.9798995 , ...,  0.94974874,\n",
       "         0.9798995 ,  0.93969849],\n",
       "       [ 0.95979899,  1.        ,  0.98994975, ...,  0.96984925,\n",
       "         1.        ,  0.93969849]])"
      ]
     },
     "execution_count": 13,
     "metadata": {},
     "output_type": "execute_result"
    }
   ],
   "source": [
    "X_"
   ]
  }
 ],
 "metadata": {
  "kernelspec": {
   "display_name": "Python 3",
   "language": "python",
   "name": "python3"
  },
  "language_info": {
   "codemirror_mode": {
    "name": "ipython",
    "version": 3
   },
   "file_extension": ".py",
   "mimetype": "text/x-python",
   "name": "python",
   "nbconvert_exporter": "python",
   "pygments_lexer": "ipython3",
   "version": "3.10.6"
  },
  "orig_nbformat": 4,
  "vscode": {
   "interpreter": {
    "hash": "916dbcbb3f70747c44a77c7bcd40155683ae19c65e1c03b4aa3499c5328201f1"
   }
  }
 },
 "nbformat": 4,
 "nbformat_minor": 2
}
