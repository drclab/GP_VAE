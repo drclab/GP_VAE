{
 "cells": [
  {
   "cell_type": "markdown",
   "metadata": {},
   "source": [
    "## [Example: Toy Mixture Model With Discrete Enumeration](http://pyro.ai/examples/toy_mixture_model_discrete_enumeration.html#example-toy-mixture-model-with-discrete-enumeration)"
   ]
  },
  {
   "cell_type": "code",
   "execution_count": 1,
   "metadata": {},
   "outputs": [],
   "source": [
    "import matplotlib.pyplot as plt\n",
    "import numpy as np\n",
    "import torch\n",
    "from torch.distributions import constraints\n",
    "from torch.distributions.bernoulli import Bernoulli\n",
    "from torch.distributions.beta import Beta\n",
    "from tqdm import tqdm"
   ]
  },
  {
   "cell_type": "code",
   "execution_count": 2,
   "metadata": {},
   "outputs": [],
   "source": [
    "import pyro\n",
    "import pyro.distributions as dist\n",
    "import pyro.infer\n",
    "import pyro.optim\n",
    "from pyro.ops.indexing import Vindex"
   ]
  },
  {
   "cell_type": "code",
   "execution_count": 12,
   "metadata": {},
   "outputs": [],
   "source": [
    "def generate_data(num_obs):\n",
    "    prior = {\n",
    "        'A': torch.tensor([1.0,10.0]),\n",
    "        'B': torch.tensor([[10.0,1.0], [1.0, 10.0]]),\n",
    "        'C': torch.tensor([[10.0,1.0],[1.0,10.6]])\n",
    "    }\n",
    "\n",
    "    CPDs = {\n",
    "        'p_A': Beta(prior['A'][0], prior['A'][1]).sample(),\n",
    "        'p_B': Beta(prior['B'][:, 0], prior['B'][:, 1]).sample(),\n",
    "        'p_C': Beta(prior['C'][:,0], prior['C'][:, 1]).sample()\n",
    "    }\n",
    "\n",
    "    data = {'A': Bernoulli(torch.ones(num_obs)*CPDs['p_A']).sample()}\n",
    "    \n",
    "    data['B'] = Bernoulli(\n",
    "        torch.gather(CPDs['p_B'], 0, data['A'].type(torch.long))\n",
    "    ).sample()\n",
    "    \n",
    "    data['C'] = Bernoulli(\n",
    "        torch.gather(CPDs['p_C'], 0, data['B'].type(torch.long))\n",
    "    ).sample()\n",
    "    return prior, CPDs, data\n"
   ]
  },
  {
   "cell_type": "code",
   "execution_count": 28,
   "metadata": {},
   "outputs": [
    {
     "data": {
      "text/plain": [
       "tensor([[1, 2],\n",
       "        [5, 4]])"
      ]
     },
     "execution_count": 28,
     "metadata": {},
     "output_type": "execute_result"
    }
   ],
   "source": [
    "t = torch.tensor([[1,2,3],[4,5,6],[7,8,9]])\n",
    "torch.gather(t, dim=1, index=torch.tensor([[0,1],[1,0]]))"
   ]
  },
  {
   "cell_type": "code",
   "execution_count": 13,
   "metadata": {},
   "outputs": [
    {
     "data": {
      "text/plain": [
       "({'A': tensor([ 1., 10.]),\n",
       "  'B': tensor([[10.,  1.],\n",
       "          [ 1., 10.]]),\n",
       "  'C': tensor([[10.0000,  1.0000],\n",
       "          [ 1.0000, 10.6000]])},\n",
       " {'p_A': tensor(0.0444),\n",
       "  'p_B': tensor([0.6791, 0.0967]),\n",
       "  'p_C': tensor([0.8047, 0.0657])},\n",
       " {'A': tensor([0., 0., 0., 0., 0.]),\n",
       "  'B': tensor([1., 1., 1., 0., 1.]),\n",
       "  'C': tensor([1., 0., 0., 1., 1.])})"
      ]
     },
     "execution_count": 13,
     "metadata": {},
     "output_type": "execute_result"
    }
   ],
   "source": [
    "generate_data(5)"
   ]
  },
  {
   "cell_type": "code",
   "execution_count": 16,
   "metadata": {},
   "outputs": [],
   "source": [
    "@pyro.infer.config_enumerate\n",
    "def model(prior, obs, num_obs):\n",
    "    p_A = pyro.sample('p_A', dist.Beta(1,1))\n",
    "    p_B = pyro.sample('p_B', dist.Beta(tirch.ones(2), torch.ones(2)).to_event(1))\n",
    "    p_B = pyro.sample('p_C', dist.Beta(tirch.ones(2), torch.ones(2)).to_event(1))\n",
    "\n",
    "    with pyro.plate('data_plate', num_obs):\n",
    "        A = pyro.sample('A', dist.Bernoulli(p_A.expand(num_obs)), obs=obs['A'])\n",
    "        B = pyro.sample(\n",
    "            'B',\n",
    "            dist.Bernoulli(Vindex(p_B)[A.type(torch.long)]),\n",
    "            infer = {'enumerate': 'parallel'}\n",
    "        )\n",
    "        pyro.sample('C', dist.Bernoulli(Vindex(p_C)[B.type(torch.long)]), obs=obs['C'])"
   ]
  },
  {
   "cell_type": "code",
   "execution_count": null,
   "metadata": {},
   "outputs": [],
   "source": []
  }
 ],
 "metadata": {
  "kernelspec": {
   "display_name": "Python 3.10.6 64-bit",
   "language": "python",
   "name": "python3"
  },
  "language_info": {
   "codemirror_mode": {
    "name": "ipython",
    "version": 3
   },
   "file_extension": ".py",
   "mimetype": "text/x-python",
   "name": "python",
   "nbconvert_exporter": "python",
   "pygments_lexer": "ipython3",
   "version": "3.10.6"
  },
  "orig_nbformat": 4,
  "vscode": {
   "interpreter": {
    "hash": "916dbcbb3f70747c44a77c7bcd40155683ae19c65e1c03b4aa3499c5328201f1"
   }
  }
 },
 "nbformat": 4,
 "nbformat_minor": 2
}
