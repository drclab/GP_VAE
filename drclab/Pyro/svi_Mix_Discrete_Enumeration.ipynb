{
 "cells": [
  {
   "cell_type": "markdown",
   "metadata": {},
   "source": [
    "## [Example: Toy Mixture Model With Discrete Enumeration](http://pyro.ai/examples/toy_mixture_model_discrete_enumeration.html#example-toy-mixture-model-with-discrete-enumeration)"
   ]
  },
  {
   "cell_type": "code",
   "execution_count": 2,
   "metadata": {},
   "outputs": [],
   "source": [
    "import matplotlib.pyplot as plt\n",
    "import numpy as np\n",
    "import torch\n",
    "from torch.distributions import constraints\n",
    "from torch.distributions.bernoulli import Bernoulli\n",
    "from torch.distributions.beta import Beta\n",
    "from tqdm import tqdm"
   ]
  },
  {
   "cell_type": "code",
   "execution_count": 3,
   "metadata": {},
   "outputs": [],
   "source": [
    "import pyro\n",
    "import pyro.distributions as dist\n",
    "import pyro.infer\n",
    "import pyro.optim\n",
    "from pyro.ops.indexing import Vindex"
   ]
  },
  {
   "cell_type": "code",
   "execution_count": 4,
   "metadata": {},
   "outputs": [],
   "source": [
    "def generate_data(num_obs):\n",
    "    prior = {\n",
    "        'A': torch.tensor([1.0,10.0]),\n",
    "        'B': torch.tensor([[10.0,1.0], [1.0, 10.0]]),\n",
    "        'C': torch.tensor([[10.0,1.0],[1.0,10.6]])\n",
    "    }\n",
    "\n",
    "    CPDs = {\n",
    "        'p_A': Beta(prior['A'][0], prior['A'][1]).sample(),\n",
    "        'p_B': Beta(prior['B'][:, 0], prior['B'][:, 1]).sample(),\n",
    "        'p_C': Beta(prior['C'][:,0], prior['C'][:, 1]).sample()\n",
    "    }\n",
    "\n",
    "    data = {'A': Bernoulli(torch.ones(num_obs)*CPDs['p_A']).sample()}\n",
    "    \n",
    "    data['B'] = Bernoulli(\n",
    "        torch.gather(CPDs['p_B'], 0, data['A'].type(torch.long))\n",
    "    ).sample()\n",
    "    \n",
    "    data['C'] = Bernoulli(\n",
    "        torch.gather(CPDs['p_C'], 0, data['B'].type(torch.long))\n",
    "    ).sample()\n",
    "    return prior, CPDs, data\n"
   ]
  },
  {
   "cell_type": "code",
   "execution_count": 5,
   "metadata": {},
   "outputs": [
    {
     "data": {
      "text/plain": [
       "tensor([[1, 2],\n",
       "        [6, 4]])"
      ]
     },
     "execution_count": 5,
     "metadata": {},
     "output_type": "execute_result"
    }
   ],
   "source": [
    "t = torch.tensor([[1,2,3],[4,5,6],[7,8,9]])\n",
    "torch.gather(t, dim=1, index=torch.tensor([[0,1],[2,0]]))"
   ]
  },
  {
   "cell_type": "code",
   "execution_count": 6,
   "metadata": {},
   "outputs": [
    {
     "data": {
      "text/plain": [
       "({'A': tensor([ 1., 10.]),\n",
       "  'B': tensor([[10.,  1.],\n",
       "          [ 1., 10.]]),\n",
       "  'C': tensor([[10.0000,  1.0000],\n",
       "          [ 1.0000, 10.6000]])},\n",
       " {'p_A': tensor(0.0213),\n",
       "  'p_B': tensor([0.8664, 0.1402]),\n",
       "  'p_C': tensor([0.9801, 0.0681])},\n",
       " {'A': tensor([0., 0., 0., 0., 0.]),\n",
       "  'B': tensor([1., 1., 0., 1., 1.]),\n",
       "  'C': tensor([0., 0., 1., 0., 0.])})"
      ]
     },
     "execution_count": 6,
     "metadata": {},
     "output_type": "execute_result"
    }
   ],
   "source": [
    "generate_data(5)"
   ]
  },
  {
   "cell_type": "code",
   "execution_count": 20,
   "metadata": {},
   "outputs": [],
   "source": [
    "@pyro.infer.config_enumerate\n",
    "def model(prior, obs, num_obs):\n",
    "    p_A = pyro.sample('p_A', dist.Beta(1,1))\n",
    "    p_B = pyro.sample('p_B', dist.Beta(torch.ones(2), torch.ones(2)).to_event(1))\n",
    "    p_C = pyro.sample('p_C', dist.Beta(torch.ones(2), torch.ones(2)).to_event(1))\n",
    "\n",
    "    with pyro.plate('data_plate', num_obs):\n",
    "        A = pyro.sample('A', dist.Bernoulli(p_A.expand(num_obs)), obs=obs['A'])\n",
    "        B = pyro.sample(\n",
    "            'B',\n",
    "            dist.Bernoulli(Vindex(p_B)[A.type(torch.long)]),\n",
    "            infer = {'enumerate': 'parallel'}\n",
    "        )\n",
    "        pyro.sample('C', dist.Bernoulli(Vindex(p_C)[B.type(torch.long)]), obs=obs['C'])"
   ]
  },
  {
   "cell_type": "code",
   "execution_count": 8,
   "metadata": {},
   "outputs": [],
   "source": [
    "def guide(prior, obs, num_obs):\n",
    "    a = pyro.param('a', prior['A'], constraint=constraints.positive)\n",
    "    pyro.sample('p_A', dist.Beta(a[0], a[1]))\n",
    "\n",
    "    b = pyro.param('b', prior['B'], constraint=constraints.positive)\n",
    "    pyro.sample('p_B', dist.Beta(b[:,0], b[:,1]).to_event(1))\n",
    "\n",
    "    c = pyro.param('c', prior['C'], constraint=constraints.positive)\n",
    "    pyro.sample('p_C', dist.Beta(c[:,0], c[:, 1]).to_event(1))\n",
    "    "
   ]
  },
  {
   "cell_type": "code",
   "execution_count": 30,
   "metadata": {},
   "outputs": [],
   "source": [
    "def train(prior, data, num_steps, num_obs):\n",
    "    pyro.clear_param_store()\n",
    "    loss_fn = pyro.infer.TraceEnum_ELBO(max_plate_nesting=1) # only one plate in the model\n",
    "    svi = pyro.infer.SVI(model, guide, pyro.optim.Adam({'lr':0.01}), loss=loss_fn)\n",
    "\n",
    "    losses = []\n",
    "\n",
    "    for _ in tqdm(range(num_steps)):\n",
    "        loss = svi.step(prior, data, num_obs)\n",
    "        losses.append(loss)\n",
    "\n",
    "    plt.figure()\n",
    "    plt.plot(losses)\n",
    "    plt.show()\n",
    "\n",
    "    posterior_params = {\n",
    "        k: np.array(v.data) for k, v in pyro.get_param_store().items()\n",
    "    }\n",
    "    posterior_params['a'] = posterior_params['a'][None, :]\n",
    "    return posterior_params"
   ]
  },
  {
   "cell_type": "markdown",
   "metadata": {},
   "source": [
    "___"
   ]
  },
  {
   "cell_type": "code",
   "execution_count": 31,
   "metadata": {},
   "outputs": [],
   "source": [
    "num_obs = 10000\n",
    "priors, cpds, data = generate_data(num_obs)"
   ]
  },
  {
   "cell_type": "code",
   "execution_count": 32,
   "metadata": {},
   "outputs": [
    {
     "name": "stderr",
     "output_type": "stream",
     "text": [
      "100%|██████████| 4000/4000 [00:43<00:00, 91.60it/s]\n"
     ]
    },
    {
     "data": {
      "image/png": "[encoded data removed]",
      "text/plain": [
       "<Figure size 432x288 with 1 Axes>"
      ]
     },
     "metadata": {
      "needs_background": "light"
     },
     "output_type": "display_data"
    },
    {
     "data": {
      "text/plain": [
       "{'a': array([[ 16.860266, 298.33112 ]], dtype=float32),\n",
       " 'b': array([[156.92253  ,  14.147445 ],\n",
       "        [  7.4446764,  68.86691  ]], dtype=float32),\n",
       " 'c': array([[ 60.25509 ,   7.22736 ],\n",
       "        [  9.655925, 154.02142 ]], dtype=float32)}"
      ]
     },
     "execution_count": 32,
     "metadata": {},
     "output_type": "execute_result"
    }
   ],
   "source": [
    "train(priors, data, num_steps=4000, num_obs=num_obs)"
   ]
  },
  {
   "cell_type": "code",
   "execution_count": 34,
   "metadata": {},
   "outputs": [
    {
     "data": {
      "text/plain": [
       "{'p_A': tensor(0.0556),\n",
       " 'p_B': tensor([0.9618, 0.1466]),\n",
       " 'p_C': tensor([0.9397, 0.0831])}"
      ]
     },
     "execution_count": 34,
     "metadata": {},
     "output_type": "execute_result"
    }
   ],
   "source": [
    "cpds"
   ]
  }
 ],
 "metadata": {
  "kernelspec": {
   "display_name": "Python 3.10.6 64-bit",
   "language": "python",
   "name": "python3"
  },
  "language_info": {
   "codemirror_mode": {
    "name": "ipython",
    "version": 3
   },
   "file_extension": ".py",
   "mimetype": "text/x-python",
   "name": "python",
   "nbconvert_exporter": "python",
   "pygments_lexer": "ipython3",
   "version": "3.10.6"
  },
  "orig_nbformat": 4,
  "vscode": {
   "interpreter": {
    "hash": "916dbcbb3f70747c44a77c7bcd40155683ae19c65e1c03b4aa3499c5328201f1"
   }
  }
 },
 "nbformat": 4,
 "nbformat_minor": 2
}
