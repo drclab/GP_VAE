{
 "cells": [
  {
   "cell_type": "markdown",
   "metadata": {},
   "source": [
    "## [**Dirichlet Process Mixture Models in Pyro**](http://pyro.ai/examples/dirichlet_process_mixture.html#Dirichlet-Process-Mixture-Models-in-Pyro)"
   ]
  },
  {
   "cell_type": "markdown",
   "metadata": {},
   "source": [
    "#####  The prototypical example of Bayesian nonparametrics in practice is the Dirichlet Process Mixture Model (DPMM). A DPMM allows for a practitioner to build a mixture model when the number of distinct clusters in the geometric structure of their data is unknown – in other words, the number of clusters is allowed to grow as more data is observed. This feature makes the DPMM highly useful towards exploratory data analysis, where few facets of the data in question are known; this presentation aims to demonstrate this fact."
   ]
  },
  {
   "cell_type": "markdown",
   "metadata": {},
   "source": [
    "$$(G(\\Omega_1), ..., G(\\Omega_k)) \\sim \\text{Dir}(\\alpha G_0(\\Omega_1), ..., \\alpha G_0(\\Omega_k))$$"
   ]
  },
  {
   "cell_type": "markdown",
   "metadata": {},
   "source": [
    "Imagine a restaurant with infinite tables (indexed by the positive integers) that accepts customers one at a time. The n th customer chooses their seat according to the following probabilities:"
   ]
  },
  {
   "cell_type": "markdown",
   "metadata": {},
   "source": [
    "## [The Stick-Breaking Method (Sethuraman, 1994)](http://pyro.ai/examples/dirichlet_process_mixture.html#The-Stick-Breaking-Method-(Sethuraman,-1994))"
   ]
  },
  {
   "cell_type": "markdown",
   "metadata": {},
   "source": [
    "1. $\\beta_i \\sim \\text{Beta}(1, \\alpha)$ for $i \\in \\mathbb{N}$\n",
    "2. $\\theta_i \\sim G_0$ for $i \\in \\mathbb{N}$\n",
    "3. $\\pi_i(\\beta_{1:\\infty}) = \\beta_i \\prod_{j<i} (1-\\beta_j)$\n",
    "4. $z_n \\sim \\pi(\\beta_{1:\\infty})$ and then $x_n \\sim f(\\theta_{z_n})$"
   ]
  },
  {
   "cell_type": "code",
   "execution_count": null,
   "metadata": {},
   "outputs": [],
   "source": [
    "import matplotlib.pyplot as plt\n",
    "import numpy as np\n",
    "import pandas as pd\n",
    "from tqdm import tqdm\n",
    "\n",
    "import torch\n",
    "import torch.nn.functional as F\n",
    "from torch.distributions import constraints\n",
    "\n",
    "import pyro\n",
    "from pyro.distributions import *\n",
    "from pyro.infer import Predictive, SVI, Trace_ELBO\n",
    "from pyro.optim import Adam\n",
    "\n",
    "assert pyro.__version__.startswith('1.8.3')\n",
    "pyro.set_rng_seed(0)"
   ]
  },
  {
   "cell_type": "code",
   "execution_count": null,
   "metadata": {},
   "outputs": [],
   "source": [
    "data = torch.cat(\n",
    "    (\n",
    "        MultivariateNormal(-8* torch.ones(2), torch.eye(2)).sample([50]),\n",
    "        MultivariateNormal(8* torch.ones(2), torch.eye(2)).sample([50]),\n",
    "        MultivariateNormal(torch.tensor([1.5,2]), torch.eye(2)).sample([50]),\n",
    "        MultivariateNormal(torch.tensor([-0.5,1]), torch.eye(2)).sample([50])\n",
    "    )\n",
    ")"
   ]
  },
  {
   "cell_type": "code",
   "execution_count": null,
   "metadata": {},
   "outputs": [],
   "source": [
    "N = data.size()[0]"
   ]
  },
  {
   "cell_type": "code",
   "execution_count": null,
   "metadata": {},
   "outputs": [],
   "source": [
    "plt.scatter(data[:, 0], data[:, 1])"
   ]
  },
  {
   "cell_type": "markdown",
   "metadata": {},
   "source": [
    "### In this example, the cluster parameters $\\theta_i$ are two dimensional vectors describing the means of a multivariate Gaussian with identity covariance. Therefore, the Dirichlet process base distribution  is also a multivariate Gaussian (i.e. the conjugate prior)"
   ]
  },
  {
   "cell_type": "code",
   "execution_count": null,
   "metadata": {},
   "outputs": [],
   "source": [
    "def mix_weights(beta):\n",
    "    beta1m_cumprod = (1 - beta).cumprod(-1)\n",
    "    #print(beta1m_cumprod)\n",
    "    #print(F.pad(beta, (0,1), value=1))\n",
    "    #print(F.pad(beta1m_cumprod, (1,0), value=1))\n",
    "    return F.pad(beta, (0,1), value=1) * F.pad(beta1m_cumprod, (1, 0), value=1)"
   ]
  },
  {
   "cell_type": "code",
   "execution_count": null,
   "metadata": {},
   "outputs": [],
   "source": [
    "mix_weights(torch.tensor([2,2,3,4]))"
   ]
  },
  {
   "cell_type": "code",
   "execution_count": null,
   "metadata": {},
   "outputs": [],
   "source": [
    "def model(data):\n",
    "    with pyro.plate(\"beta_plate\", T-1):\n",
    "        beta = pyro.sample('beta', Beta(1, alpha))\n",
    "    with pyro.plate('mu_plate', T):\n",
    "        mu = pyro.sample('mu', MultivariateNormal(torch.zeros(2), 5 * torch.eye(2)))\n",
    "\n",
    "    with pyro.plate(\"data\", N):\n",
    "        z = pyro.sample('z', Categorical(mix_weights(beta)))\n",
    "        pyro.sample('obs', MultivariateNormal(mu[z], torch.eye(2)), obs=data)"
   ]
  },
  {
   "cell_type": "markdown",
   "metadata": {},
   "source": [
    "$q(\\beta, \\theta, z) = \\prod_{t=1}^{T-1} q_t(\\beta_t) \\prod_{t=1}^T q_t(\\theta_t) \\prod_{n=1}^N q_n(z_n)$"
   ]
  },
  {
   "cell_type": "markdown",
   "metadata": {},
   "source": [
    "##### since we are unable to computationally model the infinite clusters posited by the model, we truncate our variational family at T clusters. This does not affect our model; rather, it is a simplification made in the inference stage to allow tractability."
   ]
  },
  {
   "cell_type": "code",
   "execution_count": null,
   "metadata": {},
   "outputs": [],
   "source": [
    "def guide(data):\n",
    "    kappa = pyro.param('kappa', lambda: Uniform(0,2).sample([T-1]), constraint=constraints.positive)\n",
    "    tau = pyro.param('tau', lambda: MultivariateNormal(torch.zeros(2), 3 * torch.eye(2)).sample([T]))\n",
    "    phi = pyro.param('phi', lambda: Dirichlet(1/T * torch.ones(T)).sample([N]), constraint=constraints.simplex)\n",
    "\n",
    "    with pyro.plate('beta_plate', T-1):\n",
    "        q_beta = pyro.sample('beta', Beta(torch.ones(T-1), kappa))\n",
    "    with pyro.plate('mu_plate', T):\n",
    "        q_mu = pyro.sample('mu', MultivariateNormal(tau, torch.eye(2)))\n",
    "\n",
    "    with pyro.plate(\"data\", N):\n",
    "        z = pyro.sample('z', Categorical(phi))"
   ]
  },
  {
   "cell_type": "code",
   "execution_count": null,
   "metadata": {},
   "outputs": [],
   "source": [
    "T = 6\n",
    "alpha = 0.1\n",
    "optim = Adam({'lr': 0.05})\n",
    "\n",
    "svi = SVI(model, guide, optim, loss=Trace_ELBO())\n",
    "losses = []\n",
    "\n",
    "def train(n_iters=1000):\n",
    "    pyro.clear_param_store()\n",
    "    for iter in tqdm(range(n_iters)):\n",
    "        loss = svi.step(data)\n",
    "        losses.append(loss)"
   ]
  },
  {
   "cell_type": "code",
   "execution_count": null,
   "metadata": {},
   "outputs": [],
   "source": [
    "alpha = 1.5"
   ]
  },
  {
   "cell_type": "code",
   "execution_count": null,
   "metadata": {},
   "outputs": [],
   "source": [
    "train()"
   ]
  },
  {
   "cell_type": "code",
   "execution_count": null,
   "metadata": {},
   "outputs": [],
   "source": [
    "plt.plot(losses)"
   ]
  },
  {
   "cell_type": "markdown",
   "metadata": {},
   "source": [
    "##### After performing inference, we construct the Bayes estimators of the means (the expected values of each factor in our variational approximation) and plot them in red on top of the original dataset. Note that we also have we removed any clusters that have less than a certain weight assigned to them according to our learned variational distributions, and then re-normalize the weights so that they sum to one:"
   ]
  },
  {
   "cell_type": "code",
   "execution_count": null,
   "metadata": {},
   "outputs": [],
   "source": [
    "def truncate(alpha, centers, weights):\n",
    "    threshold = alpha ** -1 / 100\n",
    "    print(threshold)\n",
    "    true_centers = centers[weights > threshold]\n",
    "    true_weights = weights[weights > threshold] / torch.sum(weights[weights > threshold])\n",
    "    return true_centers, true_weights"
   ]
  },
  {
   "cell_type": "code",
   "execution_count": null,
   "metadata": {},
   "outputs": [],
   "source": [
    "torch.mean(pyro.param('phi').detach(), dim=0)"
   ]
  },
  {
   "cell_type": "code",
   "execution_count": null,
   "metadata": {},
   "outputs": [],
   "source": [
    "Bayes_Centers_01, Bayess_Weights_01 = truncate(alpha, pyro.param('tau').detach(), \n",
    "        torch.mean(pyro.param('phi').detach(), dim=0))"
   ]
  },
  {
   "cell_type": "code",
   "execution_count": null,
   "metadata": {},
   "outputs": [],
   "source": [
    "Bayes_Centers_02, Bayess_Weights_02 = truncate(alpha, pyro.param('tau').detach(), \n",
    "        torch.mean(pyro.param('phi').detach(), dim=0))"
   ]
  },
  {
   "cell_type": "code",
   "execution_count": null,
   "metadata": {},
   "outputs": [],
   "source": [
    "plt.figure(figsize=(15, 5))\n",
    "plt.subplot(1, 2, 1)\n",
    "plt.scatter(data[:, 0], data[:, 1], color=\"blue\")\n",
    "plt.scatter(Bayes_Centers_01[:, 0], Bayes_Centers_01[:, 1], color=\"red\")\n",
    "\n",
    "plt.subplot(1, 2, 2)\n",
    "plt.scatter(data[:, 0], data[:, 1], color=\"blue\")\n",
    "plt.scatter(Bayes_Centers_02[:, 0], Bayes_Centers_02[:, 1], color=\"red\")\n",
    "plt.tight_layout()\n",
    "plt.show()"
   ]
  },
  {
   "cell_type": "markdown",
   "metadata": {},
   "source": [
    "The plots above demonstrate the effects of the scaling hyperparameter . A greater  yields a more heavy-tailed distribution of the weights, whereas smaller  will place more mass on fewer clusters. In particular, the middle cluster looks like it could be generated a single Gaussian (although in fact it was generated by two distinct Gaussians), and thus the setting of  allows the practitioner to further encode their prior beliefs about how many clusters the data contains."
   ]
  },
  {
   "cell_type": "markdown",
   "metadata": {},
   "source": [
    "### [Dirichlet Mixture Model for Long Term Solar Observations](http://pyro.ai/examples/dirichlet_process_mixture.html#Dirichlet-Mixture-Model-for-Long-Term-Solar-Observations)"
   ]
  },
  {
   "cell_type": "markdown",
   "metadata": {},
   "source": [
    "#### As mentioned earlier, the Dirichlet process mixture model truly shines when exploring a dataset whose latent geometric structure is completely unknown. To demonstrate this, we fit a DPMM on sunspot count data taken over the past 300 years (provided by the Royal Observatory of Belgium):"
   ]
  },
  {
   "cell_type": "code",
   "execution_count": null,
   "metadata": {},
   "outputs": [],
   "source": [
    "data_url = 'http://www.sidc.be/silso/DATA/SN_y_tot_V2.0.csv'"
   ]
  },
  {
   "cell_type": "code",
   "execution_count": null,
   "metadata": {},
   "outputs": [],
   "source": [
    "df = pd.read_csv(data_url, sep=';', names=['time', 'sunspot.year'], usecols=[0, 1])"
   ]
  },
  {
   "cell_type": "code",
   "execution_count": null,
   "metadata": {},
   "outputs": [],
   "source": [
    "df.head()"
   ]
  },
  {
   "cell_type": "code",
   "execution_count": null,
   "metadata": {},
   "outputs": [],
   "source": [
    "data = torch.tensor(\n",
    "    df['sunspot.year'].values, dtype=torch.float32\n",
    ").round()"
   ]
  },
  {
   "cell_type": "code",
   "execution_count": null,
   "metadata": {},
   "outputs": [],
   "source": [
    "N = data.shape[0]\n",
    "N"
   ]
  },
  {
   "cell_type": "code",
   "execution_count": null,
   "metadata": {},
   "outputs": [],
   "source": [
    "plt.hist(df['sunspot.year'].values, bins=40)\n",
    "plt.title(\"Number of Years vs. Sunspot Counts\")\n",
    "plt.xlabel(\"Sunspot Count\")\n",
    "plt.ylabel(\"Number of Years\")\n",
    "plt.show()"
   ]
  },
  {
   "cell_type": "markdown",
   "metadata": {},
   "source": [
    "#### For this example, the cluster parameters $\\theta_i$ are rate parameters since we are constructing a scale-mixture of Poisson distributions. Again, $G_0$ is chosen to be the conjugate prior, which in this case is a Gamma distribution, though this still does not strictly matter for doing inference through Pyro. Below is the implementation of the model:"
   ]
  },
  {
   "cell_type": "code",
   "execution_count": null,
   "metadata": {},
   "outputs": [],
   "source": [
    "def model(data):\n",
    "    with pyro.plate(\"beta_plate\", T-1):\n",
    "        beta = pyro.sample('beta', Beta(1, alpha))\n",
    "    with pyro.plate('lambda_plate', T):\n",
    "        lmbda = pyro.sample('lambda', Gamma(3, 0.05))\n",
    "    with pyro.plate('data', N):\n",
    "        z = pyro.sample('z', Categorical(mix_weights(beta)))\n",
    "        pyro.sample('obs', Poisson(lmbda[z]), obs=data)"
   ]
  },
  {
   "cell_type": "code",
   "execution_count": null,
   "metadata": {},
   "outputs": [],
   "source": [
    "def guide(data):\n",
    "    kappa = pyro.param('kappa', lambda: Uniform(0,2).sample([T-1]), constraint=constraints.positive)\n",
    "    tau_0 = pyro.param('tau_0', lambda: Uniform(0,5).sample([T]), constraint=constraints.positive)\n",
    "    tau_1 = pyro.param('tau_1', lambda: LogNormal(-1,1).sample([T]), constraint=constraints.positive)\n",
    "\n",
    "    phi = pyro.param('phi', lambda: Dirichlet(1/T * torch.ones(T)).sample([N]), constraint=constraints.simplex)\n",
    "\n",
    "    with pyro.plate('beta_plate', T-1):\n",
    "        q_beta = pyro.sample('beta', Beta(torch.ones(T-1), kappa))\n",
    "\n",
    "    with pyro.plate('lambda_plate', T):\n",
    "        q_lambda = pyro.sample('lambda', Gamma(tau_0, tau_1))\n",
    "\n",
    "    with pyro.plate('data', N):\n",
    "        z = pyro.sample('z', Categorical(phi))"
   ]
  },
  {
   "cell_type": "code",
   "execution_count": null,
   "metadata": {},
   "outputs": [],
   "source": [
    "T = 20\n",
    "alpha = 1.1\n",
    "n_iters = 1500\n",
    "optim = Adam({'lr': 0.05})\n",
    "svi = SVI(model, guide, optim, loss=Trace_ELBO())\n",
    "losses = []\n"
   ]
  },
  {
   "cell_type": "code",
   "execution_count": null,
   "metadata": {},
   "outputs": [],
   "source": [
    "train(n_iters)"
   ]
  },
  {
   "cell_type": "code",
   "execution_count": null,
   "metadata": {},
   "outputs": [],
   "source": [
    "tau0_optimal = pyro.param('tau_0').detach()\n",
    "tau1_optimal = pyro.param('tau_1').detach()\n",
    "kappa_optimal = pyro.param('kappa').detach()"
   ]
  },
  {
   "cell_type": "code",
   "execution_count": null,
   "metadata": {},
   "outputs": [],
   "source": [
    "samples = torch.arange(0, 300).type(torch.float)"
   ]
  },
  {
   "cell_type": "code",
   "execution_count": null,
   "metadata": {},
   "outputs": [],
   "source": [
    "Bayes_Rates = tau0_optimal / tau1_optimal\n",
    "Bayes_Weights = mix_weights(1. / (1. + kappa_optimal))"
   ]
  },
  {
   "cell_type": "code",
   "execution_count": null,
   "metadata": {},
   "outputs": [],
   "source": [
    "def mixture_of_poisson(weights, rates, samples):\n",
    "    return (weights * Poisson(rates).log_prob(samples.unsqueeze(-1)).exp()).sum(-1)"
   ]
  },
  {
   "cell_type": "code",
   "execution_count": null,
   "metadata": {},
   "outputs": [],
   "source": [
    "likelihood = mixture_of_poisson(Bayes_Weights, Bayes_Rates, samples)"
   ]
  },
  {
   "cell_type": "code",
   "execution_count": null,
   "metadata": {},
   "outputs": [],
   "source": [
    "plt.title(\"Number of Years vs. Sunspot Counts\")\n",
    "plt.hist(data.numpy(), bins=60, density=True, lw=0, alpha=0.75)\n",
    "plt.plot(samples, likelihood, label=\"Estimated Mixture Density\")\n",
    "plt.legend()\n",
    "plt.show()"
   ]
  },
  {
   "cell_type": "markdown",
   "metadata": {},
   "source": [
    "The above plot is the mixture density of the Bayes estimators of the cluster parameters, weighted by their corresponding weights. As in the Gaussian example, we have taken the Bayes estimators of each cluster parameter and their corresponding weights by computing the posterior means of lambda and beta respectively."
   ]
  },
  {
   "cell_type": "markdown",
   "metadata": {},
   "source": [
    "### [ELBO Behavior](http://pyro.ai/examples/dirichlet_process_mixture.html#ELBO-Behavior)"
   ]
  },
  {
   "cell_type": "code",
   "execution_count": null,
   "metadata": {},
   "outputs": [],
   "source": [
    "elbo_plot = plt.figure(figsize=(15, 5))\n",
    "\n",
    "elbo_ax = elbo_plot.add_subplot(1, 2, 1)\n",
    "elbo_ax.set_title(\"ELBO Value vs. Iteration Number for Pyro BBVI on Sunspot Data\")\n",
    "elbo_ax.set_ylabel(\"ELBO\")\n",
    "elbo_ax.set_xlabel(\"Iteration Number\")\n",
    "elbo_ax.plot(np.arange(n_iters), losses)\n",
    "\n",
    "autocorr_ax = elbo_plot.add_subplot(1, 2, 2)\n",
    "autocorr_ax.acorr(np.asarray(losses), detrend=lambda x: x - x.mean(), maxlags=750, usevlines=False, marker=',')\n",
    "autocorr_ax.set_xlim(0, 500)\n",
    "autocorr_ax.axhline(0, ls=\"--\", c=\"k\", lw=1)\n",
    "autocorr_ax.set_title(\"Autocorrelation of ELBO vs. Lag for Pyro BBVI on Sunspot Data\")\n",
    "autocorr_ax.set_xlabel(\"Lag\")\n",
    "autocorr_ax.set_ylabel(\"Autocorrelation\")\n",
    "elbo_plot.tight_layout()\n",
    "plt.show()\n"
   ]
  },
  {
   "cell_type": "markdown",
   "metadata": {},
   "source": [
    "##### Below are plots of the behavior of the loss function (negative Trace_ELBO) over the SVI iterations during inference using Pyro, as well as a plot of the autocorrelations of the ELBO ‘time series’ versus iteration number.We can see that around 500 iterations, the loss stops decreasing significantly, so we can assume it takes around 500 iterations to achieve convergence. The autocorrelation plot reaches an autocorrelation very close to 0 around a lag of 500, further corroborating this hypothesis. Note that these are heuristics and do not necessarily imply convergence."
   ]
  },
  {
   "cell_type": "markdown",
   "metadata": {},
   "source": [
    "### [Long-Term Sunspot Model](http://pyro.ai/examples/dirichlet_process_mixture.html#Long-Term-Sunspot-Model)"
   ]
  },
  {
   "cell_type": "markdown",
   "metadata": {},
   "source": [
    "#### Since the posterior predictive distribution for a Dirichlet process mixture model is itself a scale-mixture distribution that has an analytic approximation (Blei and Jordan, 2004), this makes it particularly amenable to the aforementioned metrics:\n",
    "\n",
    "$$p(x_{new} | X_{1:N}, \\alpha, G_0) \\approx \\sum_{t=1}^T \\mathbb{E}_q [\\pi_t(\\beta)] \\ \\mathbb{E}_q \\left[p(x_{new} | \\theta_t)\\right].$$\n",
    "\n",
    "$$\\log p(x_{new} | X) = \\log \\mathbb{E}_{\\beta, \\theta | X} \\left[ p(x_{new} | \\beta, \\theta) \\right]$$"
   ]
  },
  {
   "cell_type": "code",
   "execution_count": null,
   "metadata": {},
   "outputs": [],
   "source": [
    "df_test = df.sample(frac=0.1)"
   ]
  },
  {
   "cell_type": "code",
   "execution_count": null,
   "metadata": {},
   "outputs": [],
   "source": [
    "data = torch.tensor(df.drop(df_test.index)['sunspot.year'].values, dtype=torch.float).round()"
   ]
  },
  {
   "cell_type": "code",
   "execution_count": null,
   "metadata": {},
   "outputs": [],
   "source": [
    "data_test = torch.tensor(df_test['sunspot.year'].values, dtype=torch.float).round()"
   ]
  },
  {
   "cell_type": "code",
   "execution_count": null,
   "metadata": {},
   "outputs": [],
   "source": [
    "N = data.shape[0]\n",
    "N_test = data_test.shape[0]"
   ]
  },
  {
   "cell_type": "code",
   "execution_count": 77,
   "metadata": {},
   "outputs": [],
   "source": [
    "alphas = [0.05, 0.1, 0.5, 0.75, 0.9, 1., 1.25, 1.5, 2., 2.5, 3]"
   ]
  },
  {
   "cell_type": "code",
   "execution_count": 83,
   "metadata": {},
   "outputs": [
    {
     "name": "stderr",
     "output_type": "stream",
     "text": [
      "100%|██████████| 500/500 [00:03<00:00, 161.54it/s]\n",
      "100%|██████████| 500/500 [00:03<00:00, 163.43it/s]\n",
      "100%|██████████| 500/500 [00:03<00:00, 164.42it/s]\n",
      "100%|██████████| 500/500 [00:03<00:00, 164.32it/s]\n",
      "100%|██████████| 500/500 [00:03<00:00, 164.07it/s]\n",
      "100%|██████████| 500/500 [00:03<00:00, 159.52it/s]\n",
      "100%|██████████| 500/500 [00:03<00:00, 165.14it/s]\n",
      "100%|██████████| 500/500 [00:03<00:00, 163.36it/s]\n",
      "100%|██████████| 500/500 [00:03<00:00, 164.38it/s]\n",
      "100%|██████████| 500/500 [00:03<00:00, 165.01it/s]\n",
      "100%|██████████| 500/500 [00:03<00:00, 160.28it/s]\n"
     ]
    }
   ],
   "source": [
    "log_predictives = []\n",
    "\n",
    "for val in alphas:\n",
    "    alpha = val\n",
    "    T = 20\n",
    "    svi = SVI(model, guide, optim, loss=Trace_ELBO())\n",
    "    train(500)\n",
    "\n",
    "    S = 100 # number of MC samples to use in posterior predictive computations\n",
    "\n",
    "    posterior = Predictive(guide, num_samples=S, return_sites=['beta', \"lambda\"])(data)\n",
    "    post_pred_weights = mix_weights(posterior['beta'])\n",
    "    post_pred_clusters = posterior['lambda']\n",
    "\n",
    "    log_prob = (post_pred_weights.log()+Poisson(post_pred_clusters).log_prob(data.reshape(-1,1,1))).logsumexp(-1)\n",
    "    mean_log_prob = log_prob.logsumexp(-1) - np.log(S)\n",
    "    log_posterior_predictive = mean_log_prob.sum(-1)\n",
    "    log_predictives.append(log_posterior_predictive)"
   ]
  },
  {
   "cell_type": "code",
   "execution_count": 84,
   "metadata": {},
   "outputs": [
    {
     "data": {
      "image/png": "[encoded data removed]",
      "text/plain": [
       "<Figure size 720x360 with 1 Axes>"
      ]
     },
     "metadata": {
      "needs_background": "light"
     },
     "output_type": "display_data"
    }
   ],
   "source": [
    "plt.figure(figsize=(10, 5))\n",
    "plt.plot(alphas, log_predictives)\n",
    "plt.title(\"Value of the Log Predictive at Varying Alpha\")\n",
    "plt.show()"
   ]
  }
 ],
 "metadata": {
  "kernelspec": {
   "display_name": "Python 3.10.6 64-bit",
   "language": "python",
   "name": "python3"
  },
  "language_info": {
   "codemirror_mode": {
    "name": "ipython",
    "version": 3
   },
   "file_extension": ".py",
   "mimetype": "text/x-python",
   "name": "python",
   "nbconvert_exporter": "python",
   "pygments_lexer": "ipython3",
   "version": "3.10.6"
  },
  "orig_nbformat": 4,
  "vscode": {
   "interpreter": {
    "hash": "916dbcbb3f70747c44a77c7bcd40155683ae19c65e1c03b4aa3499c5328201f1"
   }
  }
 },
 "nbformat": 4,
 "nbformat_minor": 2
}
