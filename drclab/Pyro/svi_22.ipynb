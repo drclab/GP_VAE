{
 "cells": [
  {
   "cell_type": "markdown",
   "metadata": {},
   "source": [
    "## [Modules in Pyro](http://pyro.ai/examples/modules.html#Modules-in-Pyro)"
   ]
  },
  {
   "cell_type": "code",
   "execution_count": 1,
   "metadata": {},
   "outputs": [],
   "source": [
    "import os\n",
    "import torch\n",
    "import torch.nn as nn"
   ]
  },
  {
   "cell_type": "code",
   "execution_count": 2,
   "metadata": {},
   "outputs": [],
   "source": [
    "import pyro\n",
    "from pyro.nn import PyroModule, PyroParam, PyroSample"
   ]
  },
  {
   "cell_type": "code",
   "execution_count": 3,
   "metadata": {},
   "outputs": [],
   "source": [
    "class Linear(nn.Module):\n",
    "    def __init__(self, in_dim, out_dim) -> None:\n",
    "        super().__init__()\n",
    "        self.weights = nn.Parameter(torch.randn(in_dim, out_dim))\n",
    "        self.bias = nn.Parameter(torch.randn(out_dim))\n",
    "\n",
    "    def forward(self, x):\n",
    "        return self.bias + x @ self.weights"
   ]
  },
  {
   "cell_type": "code",
   "execution_count": 4,
   "metadata": {},
   "outputs": [],
   "source": [
    "linear = Linear(5,2)"
   ]
  },
  {
   "cell_type": "code",
   "execution_count": 5,
   "metadata": {},
   "outputs": [],
   "source": [
    "assert isinstance(linear, nn.Module)"
   ]
  },
  {
   "cell_type": "code",
   "execution_count": 6,
   "metadata": {},
   "outputs": [],
   "source": [
    "assert not isinstance(linear, PyroModule)"
   ]
  },
  {
   "cell_type": "code",
   "execution_count": 7,
   "metadata": {},
   "outputs": [
    {
     "data": {
      "text/plain": [
       "torch.Size([100, 2])"
      ]
     },
     "execution_count": 7,
     "metadata": {},
     "output_type": "execute_result"
    }
   ],
   "source": [
    "input = torch.randn(100, 5)\n",
    "out_put = linear(input)\n",
    "out_put.shape"
   ]
  },
  {
   "cell_type": "code",
   "execution_count": 8,
   "metadata": {},
   "outputs": [],
   "source": [
    "class PLinear(PyroModule):\n",
    "    pass"
   ]
  },
  {
   "cell_type": "code",
   "execution_count": 9,
   "metadata": {},
   "outputs": [],
   "source": [
    "pl = PyroModule[Linear](5,2)"
   ]
  },
  {
   "cell_type": "code",
   "execution_count": 10,
   "metadata": {},
   "outputs": [
    {
     "data": {
      "text/plain": [
       "torch.Size([100, 2])"
      ]
     },
     "execution_count": 10,
     "metadata": {},
     "output_type": "execute_result"
    }
   ],
   "source": [
    "pl(input).shape"
   ]
  },
  {
   "cell_type": "code",
   "execution_count": 11,
   "metadata": {},
   "outputs": [],
   "source": [
    "from pyro.nn.module import to_pyro_module_"
   ]
  },
  {
   "cell_type": "code",
   "execution_count": 12,
   "metadata": {},
   "outputs": [],
   "source": [
    "to_pyro_module_(linear)"
   ]
  },
  {
   "cell_type": "code",
   "execution_count": 13,
   "metadata": {},
   "outputs": [
    {
     "data": {
      "text/plain": [
       "tensor([[ 0.8498,  0.3232],\n",
       "        [ 3.6070, -0.0276],\n",
       "        [ 6.3415, -0.0842],\n",
       "        [ 2.1117,  0.3711],\n",
       "        [ 1.0867,  2.7148],\n",
       "        [ 6.6765, -1.1550],\n",
       "        [ 4.2565,  1.1502],\n",
       "        [ 4.2230, -0.4409],\n",
       "        [ 3.1318, -0.4750],\n",
       "        [ 1.3123, -0.1186],\n",
       "        [ 2.7899,  1.5780],\n",
       "        [ 2.7586, -0.4809],\n",
       "        [ 3.6424,  0.6866],\n",
       "        [ 0.6538,  2.1651],\n",
       "        [ 6.0489,  0.8106],\n",
       "        [ 7.3646,  0.1095],\n",
       "        [ 1.8836,  2.5773],\n",
       "        [ 1.3078,  1.2425],\n",
       "        [ 1.2893, -1.4890],\n",
       "        [ 2.2098,  0.8795],\n",
       "        [ 2.6475,  0.2944],\n",
       "        [-2.3164,  1.4191],\n",
       "        [ 2.0159,  0.6273],\n",
       "        [ 1.0478,  1.5719],\n",
       "        [ 6.0270, -0.7681],\n",
       "        [ 4.0176,  1.8191],\n",
       "        [ 3.1099,  0.1005],\n",
       "        [ 1.2689,  0.2008],\n",
       "        [ 1.5573, -0.8755],\n",
       "        [ 5.5609,  0.8563],\n",
       "        [ 4.2680, -0.6270],\n",
       "        [ 1.4890,  0.8538],\n",
       "        [ 3.1696, -0.5615],\n",
       "        [ 6.8742,  2.3512],\n",
       "        [ 4.0680, -1.2307],\n",
       "        [ 4.5771, -0.6231],\n",
       "        [ 2.1446, -0.1566],\n",
       "        [ 5.2682,  1.9312],\n",
       "        [ 5.7827, -0.0328],\n",
       "        [ 9.4252,  0.6573],\n",
       "        [ 3.0397,  2.8239],\n",
       "        [ 1.9675, -0.5889],\n",
       "        [ 6.0353,  0.4966],\n",
       "        [ 2.2914, -0.3917],\n",
       "        [ 2.5472, -1.0235],\n",
       "        [ 4.9236,  1.9551],\n",
       "        [ 4.4178,  0.8661],\n",
       "        [ 3.7388,  1.2793],\n",
       "        [ 3.5574,  0.6525],\n",
       "        [ 2.5422, -0.4269],\n",
       "        [ 2.3477,  0.9864],\n",
       "        [ 3.5476,  1.1247],\n",
       "        [ 0.3369,  1.6273],\n",
       "        [ 3.7748, -0.6100],\n",
       "        [ 1.7842,  1.6244],\n",
       "        [ 6.1854, -0.8423],\n",
       "        [ 5.5990, -0.5660],\n",
       "        [-0.8111,  2.7743],\n",
       "        [ 3.5233,  1.2602],\n",
       "        [ 3.4967,  0.3351],\n",
       "        [ 2.3034,  2.8523],\n",
       "        [ 5.3403, -0.4104],\n",
       "        [-2.7340,  0.9784],\n",
       "        [ 2.4856,  1.2229],\n",
       "        [ 1.5069, -0.0269],\n",
       "        [ 1.1610, -0.9851],\n",
       "        [ 6.5065,  1.9171],\n",
       "        [ 4.5940, -0.1381],\n",
       "        [ 4.6493,  1.6263],\n",
       "        [ 2.8579, -0.4704],\n",
       "        [ 5.0389, -0.0426],\n",
       "        [ 0.4496,  2.9681],\n",
       "        [ 2.9219, -0.0947],\n",
       "        [ 4.1168, -0.5728],\n",
       "        [ 2.7784, -1.0139],\n",
       "        [ 0.5635,  0.7123],\n",
       "        [ 4.8858,  1.1917],\n",
       "        [ 2.6300,  1.8383],\n",
       "        [ 2.5559,  1.3525],\n",
       "        [ 2.8847,  0.9060],\n",
       "        [ 3.6257, -0.0134],\n",
       "        [ 3.6943,  0.4591],\n",
       "        [ 2.8535,  1.6230],\n",
       "        [ 4.2203, -1.1900],\n",
       "        [ 4.9588,  0.3237],\n",
       "        [ 3.9936,  0.2036],\n",
       "        [ 2.1414,  2.1055],\n",
       "        [ 4.1931,  1.6459],\n",
       "        [-2.7009, -1.4813],\n",
       "        [ 4.9655,  1.0034],\n",
       "        [ 0.7996,  1.5432],\n",
       "        [-0.6353,  2.4355],\n",
       "        [ 0.7840, -0.8046],\n",
       "        [ 5.1901,  0.9467],\n",
       "        [ 0.7220,  2.6195],\n",
       "        [ 3.1800,  0.2822],\n",
       "        [ 0.3569, -2.1084],\n",
       "        [-1.9878, -0.3701],\n",
       "        [ 2.1384, -1.4784],\n",
       "        [ 2.0909,  1.2808]], grad_fn=<AddBackward0>)"
      ]
     },
     "execution_count": 13,
     "metadata": {},
     "output_type": "execute_result"
    }
   ],
   "source": [
    "linear(input)"
   ]
  },
  {
   "cell_type": "markdown",
   "metadata": {},
   "source": [
    "### [Pyro Effects](http://pyro.ai/examples/modules.html#How-effects-work)"
   ]
  },
  {
   "cell_type": "code",
   "execution_count": 14,
   "metadata": {},
   "outputs": [],
   "source": [
    "import pyro.poutine as poutine"
   ]
  },
  {
   "cell_type": "code",
   "execution_count": 15,
   "metadata": {},
   "outputs": [],
   "source": [
    "pyro.clear_param_store()"
   ]
  },
  {
   "cell_type": "code",
   "execution_count": 16,
   "metadata": {},
   "outputs": [],
   "source": [
    "linear = Linear(5,2)"
   ]
  },
  {
   "cell_type": "code",
   "execution_count": 17,
   "metadata": {},
   "outputs": [
    {
     "name": "stdout",
     "output_type": "stream",
     "text": [
      "[]\n",
      "[]\n"
     ]
    }
   ],
   "source": [
    "with poutine.trace() as tr:\n",
    "    linear(input)\n",
    "print(list(tr.trace.nodes.keys()))\n",
    "print(list(pyro.get_param_store().keys()))"
   ]
  },
  {
   "cell_type": "code",
   "execution_count": 18,
   "metadata": {},
   "outputs": [
    {
     "name": "stdout",
     "output_type": "stream",
     "text": [
      "['bias', 'weights']\n",
      "['bias', 'weights']\n"
     ]
    }
   ],
   "source": [
    "to_pyro_module_(linear)\n",
    "with poutine.trace() as tr:\n",
    "    linear(input)\n",
    "print(list(tr.trace.nodes.keys()))\n",
    "print(list(pyro.get_param_store().keys()))"
   ]
  },
  {
   "cell_type": "markdown",
   "metadata": {},
   "source": [
    "## [Constraints](http://pyro.ai/examples/modules.html#How-to-constrain-parameters)"
   ]
  },
  {
   "cell_type": "code",
   "execution_count": 19,
   "metadata": {},
   "outputs": [],
   "source": [
    "from pyro.distributions import constraints"
   ]
  },
  {
   "cell_type": "code",
   "execution_count": 20,
   "metadata": {},
   "outputs": [
    {
     "name": "stdout",
     "output_type": "stream",
     "text": [
      "[('weights', Parameter containing:\n",
      "tensor([[ 1.1425,  1.8639],\n",
      "        [ 0.7406,  0.9192],\n",
      "        [ 0.7400,  1.8840],\n",
      "        [-0.0123, -1.6374],\n",
      "        [-0.0611, -0.7611]], requires_grad=True)), ('bias', Parameter containing:\n",
      "tensor([0.5482, 0.3786], requires_grad=True))]\n"
     ]
    }
   ],
   "source": [
    "print([name for name in linear.named_parameters()])"
   ]
  },
  {
   "cell_type": "code",
   "execution_count": 21,
   "metadata": {},
   "outputs": [],
   "source": [
    "linear.bias = PyroParam(torch.randn(2).exp(), constraint=constraints.positive)"
   ]
  },
  {
   "cell_type": "code",
   "execution_count": 22,
   "metadata": {},
   "outputs": [
    {
     "name": "stdout",
     "output_type": "stream",
     "text": [
      "[('weights', Parameter containing:\n",
      "tensor([[ 1.1425,  1.8639],\n",
      "        [ 0.7406,  0.9192],\n",
      "        [ 0.7400,  1.8840],\n",
      "        [-0.0123, -1.6374],\n",
      "        [-0.0611, -0.7611]], requires_grad=True)), ('bias_unconstrained', Parameter containing:\n",
      "tensor([0.0840, 0.9590], requires_grad=True))]\n"
     ]
    }
   ],
   "source": [
    "print([name for name in linear.named_parameters()])"
   ]
  },
  {
   "cell_type": "markdown",
   "metadata": {},
   "source": [
    "## [How to make a PyroModule Bayesian](http://pyro.ai/examples/modules.html#How-to-make-a-PyroModule-Bayesian)"
   ]
  },
  {
   "cell_type": "code",
   "execution_count": 23,
   "metadata": {},
   "outputs": [],
   "source": [
    "import pyro.distributions as dist"
   ]
  },
  {
   "cell_type": "code",
   "execution_count": 25,
   "metadata": {},
   "outputs": [],
   "source": [
    "class NormalModel(PyroModule):\n",
    "    def __init__(self, name=\"\"):\n",
    "        super().__init__(name)\n",
    "        self.loc = PyroSample(dist.Normal(0,1))"
   ]
  },
  {
   "cell_type": "code",
   "execution_count": 29,
   "metadata": {},
   "outputs": [],
   "source": [
    "class GlobalModel(NormalModel):\n",
    "    def forward(self, data):\n",
    "        loc = self.loc\n",
    "        with pyro.plate(\"data\", len(data)):\n",
    "            print(loc.shape)\n",
    "            pyro.sample(\"obs\", dist.Normal(loc,1), obs=data)"
   ]
  },
  {
   "cell_type": "code",
   "execution_count": 28,
   "metadata": {},
   "outputs": [],
   "source": [
    "class LocalModel(NormalModel):\n",
    "    def forward(self, data):\n",
    "        with pyro.plate(\"data\", len(data)):\n",
    "            loc = self.loc\n",
    "            print(loc.shape)\n",
    "            pyro.sample(\"obs\", dist.Normal(loc, 1), obs=data)"
   ]
  },
  {
   "cell_type": "code",
   "execution_count": 30,
   "metadata": {},
   "outputs": [],
   "source": [
    "data = torch.randn(10)"
   ]
  },
  {
   "cell_type": "code",
   "execution_count": 31,
   "metadata": {},
   "outputs": [
    {
     "name": "stdout",
     "output_type": "stream",
     "text": [
      "torch.Size([10])\n"
     ]
    }
   ],
   "source": [
    "LocalModel()(data)"
   ]
  },
  {
   "cell_type": "code",
   "execution_count": 32,
   "metadata": {},
   "outputs": [
    {
     "name": "stdout",
     "output_type": "stream",
     "text": [
      "torch.Size([])\n"
     ]
    }
   ],
   "source": [
    "GlobalModel()(data)"
   ]
  },
  {
   "cell_type": "markdown",
   "metadata": {},
   "source": [
    "### [How to create a complex nested](http://pyro.ai/examples/modules.html#How-to-create-a-complex-nested-PyroModule)"
   ]
  },
  {
   "cell_type": "code",
   "execution_count": 33,
   "metadata": {},
   "outputs": [],
   "source": [
    "class BayesianLinear(PyroModule):\n",
    "    def __init__(self, in_size, out_size):\n",
    "       super().__init__()\n",
    "       self.bias = PyroSample(\n",
    "           prior=dist.LogNormal(0, 1).expand([out_size]).to_event(1))\n",
    "       self.weight = PyroSample(\n",
    "           prior=dist.Normal(0, 1).expand([in_size, out_size]).to_event(2))\n",
    "\n",
    "    def forward(self, input):\n",
    "        return self.bias + input @ self.weight  # this line samples bias and weight"
   ]
  },
  {
   "cell_type": "code",
   "execution_count": 37,
   "metadata": {},
   "outputs": [],
   "source": [
    "class Model(PyroModule):\n",
    "    def __init__(self, in_dim, out_dim):\n",
    "        super().__init__()\n",
    "        self.linear = BayesianLinear(in_dim, out_dim)\n",
    "        self.obs_scale = PyroSample(dist.LogNormal(0,1))\n",
    "    \n",
    "    def forward(self, input, output=None):\n",
    "        obs_loc = self.linear(input)\n",
    "        obs_scale = self.obs_scale\n",
    "        with pyro.plate(\"instances\", len(input)):\n",
    "            return pyro.sample(\"obs\", dist.Normal(obs_loc, obs_scale).to_event(1), obs=output)"
   ]
  },
  {
   "cell_type": "code",
   "execution_count": 39,
   "metadata": {},
   "outputs": [],
   "source": [
    "from pyro.infer.autoguide import AutoNormal"
   ]
  },
  {
   "cell_type": "code",
   "execution_count": 42,
   "metadata": {},
   "outputs": [],
   "source": [
    "from pyro.infer import Trace_ELBO, SVI"
   ]
  },
  {
   "cell_type": "code",
   "execution_count": 44,
   "metadata": {},
   "outputs": [],
   "source": [
    "from pyro.optim import Adam"
   ]
  },
  {
   "cell_type": "code",
   "execution_count": 46,
   "metadata": {},
   "outputs": [
    {
     "name": "stdout",
     "output_type": "stream",
     "text": [
      "step 0 loss= 6.516\n",
      "step 100 loss= 2.61\n",
      "step 200 loss= 2.235\n",
      "step 300 loss= 2.076\n",
      "step 400 loss= 1.968\n",
      "step 500 loss= 1.98\n",
      "CPU times: user 2.54 s, sys: 0 ns, total: 2.54 s\n",
      "Wall time: 2.83 s\n"
     ]
    }
   ],
   "source": [
    "%%time\n",
    "pyro.clear_param_store()\n",
    "pyro.set_rng_seed(2)\n",
    "\n",
    "model = Model(5,2)\n",
    "x = torch.randn(100,5)\n",
    "y = model(x)\n",
    "\n",
    "guide = AutoNormal(model)\n",
    "\n",
    "svi = SVI(model, guide, Adam({\"lr\": 0.01}), Trace_ELBO())\n",
    "\n",
    "for step in range(501):\n",
    "    loss = svi.step(x,y) / y.numel()\n",
    "    if step % 100 ==0:\n",
    "        print(\"step {} loss= {:0.4g}\".format(step, loss))"
   ]
  },
  {
   "cell_type": "code",
   "execution_count": 47,
   "metadata": {},
   "outputs": [
    {
     "name": "stdout",
     "output_type": "stream",
     "text": [
      "sample linear.bias torch.Size([2])\n",
      "sample linear.weight torch.Size([5, 2])\n",
      "sample obs_scale torch.Size([])\n",
      "sample instances torch.Size([100])\n",
      "sample obs torch.Size([100, 2])\n"
     ]
    }
   ],
   "source": [
    "with poutine.trace() as tr:\n",
    "    model(x)\n",
    "for site in tr.trace.nodes.values():\n",
    "    print(site[\"type\"], site['name'], site[\"value\"].shape)"
   ]
  },
  {
   "cell_type": "code",
   "execution_count": 48,
   "metadata": {},
   "outputs": [
    {
     "name": "stdout",
     "output_type": "stream",
     "text": [
      "param AutoNormal.locs.linear.bias torch.Size([2])\n",
      "param AutoNormal.scales.linear.bias torch.Size([2])\n",
      "sample linear.bias_unconstrained torch.Size([2])\n",
      "sample linear.bias torch.Size([2])\n",
      "param AutoNormal.locs.linear.weight torch.Size([5, 2])\n",
      "param AutoNormal.scales.linear.weight torch.Size([5, 2])\n",
      "sample linear.weight_unconstrained torch.Size([5, 2])\n",
      "sample linear.weight torch.Size([5, 2])\n",
      "param AutoNormal.locs.obs_scale torch.Size([])\n",
      "param AutoNormal.scales.obs_scale torch.Size([])\n",
      "sample obs_scale_unconstrained torch.Size([])\n",
      "sample obs_scale torch.Size([])\n"
     ]
    }
   ],
   "source": [
    "with poutine.trace() as tr:\n",
    "    guide(x)\n",
    "for site in tr.trace.nodes.values():\n",
    "    print(site[\"type\"], site['name'], site[\"value\"].shape)"
   ]
  },
  {
   "cell_type": "code",
   "execution_count": null,
   "metadata": {},
   "outputs": [],
   "source": []
  }
 ],
 "metadata": {
  "kernelspec": {
   "display_name": "Python 3.10.6 64-bit",
   "language": "python",
   "name": "python3"
  },
  "language_info": {
   "codemirror_mode": {
    "name": "ipython",
    "version": 3
   },
   "file_extension": ".py",
   "mimetype": "text/x-python",
   "name": "python",
   "nbconvert_exporter": "python",
   "pygments_lexer": "ipython3",
   "version": "3.10.6"
  },
  "orig_nbformat": 4,
  "vscode": {
   "interpreter": {
    "hash": "916dbcbb3f70747c44a77c7bcd40155683ae19c65e1c03b4aa3499c5328201f1"
   }
  }
 },
 "nbformat": 4,
 "nbformat_minor": 2
}
