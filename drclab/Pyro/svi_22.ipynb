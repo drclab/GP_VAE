{
 "cells": [
  {
   "cell_type": "markdown",
   "metadata": {},
   "source": [
    "## [Modules in Pyro](http://pyro.ai/examples/modules.html#Modules-in-Pyro)"
   ]
  },
  {
   "cell_type": "code",
   "execution_count": 4,
   "metadata": {},
   "outputs": [],
   "source": [
    "import os\n",
    "import torch\n",
    "import torch.nn as nn"
   ]
  },
  {
   "cell_type": "code",
   "execution_count": 14,
   "metadata": {},
   "outputs": [],
   "source": [
    "import pyro\n",
    "from pyro.nn import PyroModule, PyroParam, PyroSample"
   ]
  },
  {
   "cell_type": "code",
   "execution_count": 22,
   "metadata": {},
   "outputs": [],
   "source": [
    "class Linear(nn.Module):\n",
    "    def __init__(self, in_dim, out_dim) -> None:\n",
    "        super().__init__()\n",
    "        self.weights = nn.Parameter(torch.randn(in_dim, out_dim))\n",
    "        self.bias = nn.Parameter(torch.randn(out_dim))\n",
    "\n",
    "    def forward(self, x):\n",
    "        return self.bias + x @ self.weights"
   ]
  },
  {
   "cell_type": "code",
   "execution_count": 23,
   "metadata": {},
   "outputs": [],
   "source": [
    "linear = Linear(5,2)"
   ]
  },
  {
   "cell_type": "code",
   "execution_count": 11,
   "metadata": {},
   "outputs": [],
   "source": [
    "assert isinstance(linear, nn.Module)"
   ]
  },
  {
   "cell_type": "code",
   "execution_count": 17,
   "metadata": {},
   "outputs": [],
   "source": [
    "assert not isinstance(linear, PyroModule)"
   ]
  },
  {
   "cell_type": "code",
   "execution_count": 26,
   "metadata": {},
   "outputs": [
    {
     "data": {
      "text/plain": [
       "torch.Size([100, 2])"
      ]
     },
     "execution_count": 26,
     "metadata": {},
     "output_type": "execute_result"
    }
   ],
   "source": [
    "input = torch.randn(100, 5)\n",
    "out_put = linear(input)\n",
    "out_put.shape"
   ]
  },
  {
   "cell_type": "code",
   "execution_count": 28,
   "metadata": {},
   "outputs": [],
   "source": [
    "class PLinear(PyroModule):\n",
    "    pass"
   ]
  },
  {
   "cell_type": "code",
   "execution_count": 30,
   "metadata": {},
   "outputs": [],
   "source": [
    "pl = PyroModule[Linear](5,2)"
   ]
  },
  {
   "cell_type": "code",
   "execution_count": 32,
   "metadata": {},
   "outputs": [
    {
     "data": {
      "text/plain": [
       "torch.Size([100, 2])"
      ]
     },
     "execution_count": 32,
     "metadata": {},
     "output_type": "execute_result"
    }
   ],
   "source": [
    "pl(input).shape"
   ]
  },
  {
   "cell_type": "code",
   "execution_count": 33,
   "metadata": {},
   "outputs": [],
   "source": [
    "from pyro.nn.module import to_pyro_module_"
   ]
  },
  {
   "cell_type": "code",
   "execution_count": 35,
   "metadata": {},
   "outputs": [],
   "source": [
    "to_pyro_module_(linear)"
   ]
  },
  {
   "cell_type": "code",
   "execution_count": 36,
   "metadata": {},
   "outputs": [
    {
     "data": {
      "text/plain": [
       "tensor([[ 2.0766e+00, -2.6112e+00],\n",
       "        [ 1.6895e+00, -5.4963e+00],\n",
       "        [ 2.0128e+00, -7.5941e-01],\n",
       "        [ 4.8355e+00, -1.5488e+00],\n",
       "        [ 9.2909e-01, -9.6555e-01],\n",
       "        [ 1.9485e+00,  4.5479e+00],\n",
       "        [ 1.4266e+00,  8.9857e-02],\n",
       "        [ 3.3437e+00,  1.1225e+00],\n",
       "        [ 2.0931e+00, -5.6345e+00],\n",
       "        [ 2.1787e+00, -2.1629e+00],\n",
       "        [ 1.4653e+00,  6.7229e+00],\n",
       "        [ 2.6442e+00, -2.4068e+00],\n",
       "        [ 1.1619e+00, -1.5065e+00],\n",
       "        [-9.0335e-02, -2.2592e+00],\n",
       "        [ 5.2148e+00,  6.8842e+00],\n",
       "        [ 8.0969e-01,  8.8792e-01],\n",
       "        [ 3.1978e+00, -8.8508e-01],\n",
       "        [ 1.8560e+00, -4.0673e+00],\n",
       "        [ 2.7549e+00, -3.6104e+00],\n",
       "        [ 5.3286e+00, -3.5658e+00],\n",
       "        [ 2.5343e+00, -1.5373e+00],\n",
       "        [ 1.9811e+00,  5.7311e+00],\n",
       "        [ 2.2636e+00,  9.7492e-01],\n",
       "        [ 1.2939e+00,  3.1828e+00],\n",
       "        [ 2.3499e+00, -3.1883e+00],\n",
       "        [ 2.4353e+00, -1.6102e+00],\n",
       "        [ 5.4609e-01, -4.8563e+00],\n",
       "        [ 2.3265e+00,  2.4042e+00],\n",
       "        [ 1.4684e+00,  1.9729e+00],\n",
       "        [-1.8883e+00,  4.2506e+00],\n",
       "        [ 5.0398e+00,  4.0419e-02],\n",
       "        [-2.1834e+00, -1.6027e-01],\n",
       "        [ 7.0680e-01,  2.9365e+00],\n",
       "        [ 1.3359e+00, -4.2082e+00],\n",
       "        [ 2.7130e+00, -3.7295e+00],\n",
       "        [-1.0055e+00,  4.1010e+00],\n",
       "        [ 7.5261e-01,  9.6009e-01],\n",
       "        [-6.7294e-01, -2.4770e-01],\n",
       "        [ 5.3869e+00, -4.5903e+00],\n",
       "        [ 7.9132e-01,  3.9342e+00],\n",
       "        [ 4.2308e+00,  4.5161e-01],\n",
       "        [-2.3149e+00, -3.7513e+00],\n",
       "        [ 4.0109e+00, -2.5534e+00],\n",
       "        [ 4.5276e+00,  8.3393e-01],\n",
       "        [-1.5415e+00, -6.5033e+00],\n",
       "        [ 3.5540e+00, -5.3287e-01],\n",
       "        [ 9.7171e-01, -1.8568e+00],\n",
       "        [ 2.9743e+00, -4.2612e+00],\n",
       "        [ 1.7608e+00,  7.4540e-01],\n",
       "        [ 1.5681e+00,  1.8399e+00],\n",
       "        [-2.3614e+00, -1.8780e+00],\n",
       "        [-1.7196e-01, -6.3017e-01],\n",
       "        [ 7.0010e-01, -1.7952e-01],\n",
       "        [ 4.4114e-01,  1.1074e+00],\n",
       "        [ 2.0459e+00, -2.2677e+00],\n",
       "        [ 8.0998e-01,  1.6227e+00],\n",
       "        [ 4.3897e+00,  1.9535e-01],\n",
       "        [ 2.8752e+00,  9.9754e-01],\n",
       "        [ 2.4874e-01,  1.2438e+00],\n",
       "        [ 4.9086e+00, -3.9804e+00],\n",
       "        [ 2.7994e+00, -2.4493e+00],\n",
       "        [ 2.0820e+00,  3.2157e+00],\n",
       "        [ 2.2411e+00,  5.9221e+00],\n",
       "        [ 1.2318e+00,  3.3743e+00],\n",
       "        [-2.6560e+00,  2.0658e+00],\n",
       "        [ 3.2820e+00, -3.7751e+00],\n",
       "        [ 1.5221e+00, -2.0779e+00],\n",
       "        [ 1.8148e+00,  1.5308e+00],\n",
       "        [-2.1388e+00,  2.3942e+00],\n",
       "        [-4.7414e-01,  1.1147e+00],\n",
       "        [ 1.5844e+00, -2.2240e+00],\n",
       "        [ 1.1186e+00, -3.5956e+00],\n",
       "        [ 4.4446e-01, -2.4373e+00],\n",
       "        [-1.3894e+00,  7.4595e-01],\n",
       "        [ 1.2343e+00, -8.2253e-01],\n",
       "        [ 3.7646e+00, -3.4248e+00],\n",
       "        [ 1.0371e+00, -1.6601e+00],\n",
       "        [ 2.2928e-01, -9.5515e-04],\n",
       "        [ 8.9188e-01, -1.9081e-01],\n",
       "        [ 8.2518e-01, -2.0996e-01],\n",
       "        [ 2.5256e-01, -8.4231e-01],\n",
       "        [-5.1835e-01, -5.2425e-01],\n",
       "        [-6.7668e-01,  6.7386e+00],\n",
       "        [ 2.9931e+00, -2.3514e+00],\n",
       "        [-9.7611e-01,  1.7829e+00],\n",
       "        [ 2.2055e+00, -3.0765e+00],\n",
       "        [-5.6758e-02,  4.3823e+00],\n",
       "        [ 2.7490e+00,  4.2067e+00],\n",
       "        [-2.3449e+00, -2.0425e+00],\n",
       "        [ 1.8099e+00, -1.9268e-01],\n",
       "        [-1.2035e+00,  1.0468e+00],\n",
       "        [-1.2823e+00,  6.6919e-01],\n",
       "        [-1.1130e+00, -4.8278e+00],\n",
       "        [-6.8181e-01,  3.7860e+00],\n",
       "        [ 2.1972e+00,  2.6818e+00],\n",
       "        [-2.3354e+00, -5.6066e-01],\n",
       "        [ 2.5850e+00, -3.5544e-02],\n",
       "        [ 2.0907e+00,  2.0268e+00],\n",
       "        [-1.6653e-01, -6.6214e-01],\n",
       "        [ 1.6740e+00, -6.1570e-02]], grad_fn=<AddBackward0>)"
      ]
     },
     "execution_count": 36,
     "metadata": {},
     "output_type": "execute_result"
    }
   ],
   "source": [
    "linear(input)"
   ]
  },
  {
   "cell_type": "markdown",
   "metadata": {},
   "source": [
    "### [Pyro Effects](http://pyro.ai/examples/modules.html#How-effects-work)"
   ]
  },
  {
   "cell_type": "code",
   "execution_count": 39,
   "metadata": {},
   "outputs": [],
   "source": [
    "import pyro.poutine as poutine"
   ]
  },
  {
   "cell_type": "code",
   "execution_count": 37,
   "metadata": {},
   "outputs": [],
   "source": [
    "pyro.clear_param_store()"
   ]
  },
  {
   "cell_type": "code",
   "execution_count": 38,
   "metadata": {},
   "outputs": [],
   "source": [
    "linear = Linear(5,2)"
   ]
  },
  {
   "cell_type": "code",
   "execution_count": 42,
   "metadata": {},
   "outputs": [
    {
     "name": "stdout",
     "output_type": "stream",
     "text": [
      "[]\n",
      "[]\n"
     ]
    }
   ],
   "source": [
    "with poutine.trace() as tr:\n",
    "    linear(input)\n",
    "print(list(tr.trace.nodes.keys()))\n",
    "print(list(pyro.get_param_store().keys()))"
   ]
  },
  {
   "cell_type": "code",
   "execution_count": 43,
   "metadata": {},
   "outputs": [
    {
     "name": "stdout",
     "output_type": "stream",
     "text": [
      "['bias', 'weights']\n",
      "['bias', 'weights']\n"
     ]
    }
   ],
   "source": [
    "to_pyro_module_(linear)\n",
    "with poutine.trace() as tr:\n",
    "    linear(input)\n",
    "print(list(tr.trace.nodes.keys()))\n",
    "print(list(pyro.get_param_store().keys()))"
   ]
  },
  {
   "cell_type": "markdown",
   "metadata": {},
   "source": [
    "## [Constraints](http://pyro.ai/examples/modules.html#How-to-constrain-parameters)"
   ]
  },
  {
   "cell_type": "code",
   "execution_count": 45,
   "metadata": {},
   "outputs": [],
   "source": [
    "from pyro.distributions import constraints"
   ]
  },
  {
   "cell_type": "code",
   "execution_count": 46,
   "metadata": {},
   "outputs": [
    {
     "name": "stdout",
     "output_type": "stream",
     "text": [
      "[('weights', Parameter containing:\n",
      "tensor([[-1.8910, -0.3617],\n",
      "        [ 0.6565, -0.2591],\n",
      "        [-1.2691,  0.0461],\n",
      "        [-0.9272,  1.5582],\n",
      "        [-0.4612,  2.2665]], requires_grad=True)), ('bias', Parameter containing:\n",
      "tensor([-1.2014, -0.7166], requires_grad=True))]\n"
     ]
    }
   ],
   "source": [
    "print([name for name in linear.named_parameters()])"
   ]
  },
  {
   "cell_type": "code",
   "execution_count": 49,
   "metadata": {},
   "outputs": [],
   "source": [
    "linear.bias = PyroParam(torch.randn(2).exp(), constraint=constraints.positive)"
   ]
  },
  {
   "cell_type": "code",
   "execution_count": 50,
   "metadata": {},
   "outputs": [
    {
     "name": "stdout",
     "output_type": "stream",
     "text": [
      "[('weights', Parameter containing:\n",
      "tensor([[-1.8910, -0.3617],\n",
      "        [ 0.6565, -0.2591],\n",
      "        [-1.2691,  0.0461],\n",
      "        [-0.9272,  1.5582],\n",
      "        [-0.4612,  2.2665]], requires_grad=True)), ('bias_unconstrained', Parameter containing:\n",
      "tensor([1.3703, 1.3749], requires_grad=True))]\n"
     ]
    }
   ],
   "source": [
    "print([name for name in linear.named_parameters()])"
   ]
  },
  {
   "cell_type": "markdown",
   "metadata": {},
   "source": [
    "## [How to make a PyroModule Bayesian](http://pyro.ai/examples/modules.html#How-to-make-a-PyroModule-Bayesian)"
   ]
  }
 ],
 "metadata": {
  "kernelspec": {
   "display_name": "Python 3.10.6 64-bit",
   "language": "python",
   "name": "python3"
  },
  "language_info": {
   "codemirror_mode": {
    "name": "ipython",
    "version": 3
   },
   "file_extension": ".py",
   "mimetype": "text/x-python",
   "name": "python",
   "nbconvert_exporter": "python",
   "pygments_lexer": "ipython3",
   "version": "3.10.6"
  },
  "orig_nbformat": 4,
  "vscode": {
   "interpreter": {
    "hash": "916dbcbb3f70747c44a77c7bcd40155683ae19c65e1c03b4aa3499c5328201f1"
   }
  }
 },
 "nbformat": 4,
 "nbformat_minor": 2
}
