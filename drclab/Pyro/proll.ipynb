{
 "cells": [
  {
   "cell_type": "markdown",
   "metadata": {},
   "source": [
    "## [Introduction to Pyro](http://pyro.ai/examples/intro_long.html#Introduction-to-Pyro)"
   ]
  },
  {
   "cell_type": "code",
   "execution_count": 1,
   "metadata": {},
   "outputs": [],
   "source": [
    "%reset -s -f"
   ]
  },
  {
   "cell_type": "code",
   "execution_count": 2,
   "metadata": {},
   "outputs": [],
   "source": [
    "import logging\n",
    "import os"
   ]
  },
  {
   "cell_type": "code",
   "execution_count": 3,
   "metadata": {},
   "outputs": [],
   "source": [
    "import torch\n",
    "import numpy as np\n",
    "import pandas as pd\n",
    "import seaborn as sns\n",
    "import matplotlib.pyplot as plt"
   ]
  },
  {
   "cell_type": "code",
   "execution_count": 4,
   "metadata": {},
   "outputs": [],
   "source": [
    "import pyro"
   ]
  },
  {
   "cell_type": "code",
   "execution_count": 5,
   "metadata": {},
   "outputs": [],
   "source": [
    "assert pyro.__version__.startswith('1.8')"
   ]
  },
  {
   "cell_type": "code",
   "execution_count": 6,
   "metadata": {},
   "outputs": [],
   "source": [
    "pyro.enable_validation(True)\n",
    "pyro.set_rng_seed(234)"
   ]
  },
  {
   "cell_type": "code",
   "execution_count": 7,
   "metadata": {},
   "outputs": [],
   "source": [
    "logging.basicConfig(format='%(message)s', level=logging.INFO)"
   ]
  },
  {
   "cell_type": "code",
   "execution_count": 9,
   "metadata": {},
   "outputs": [],
   "source": [
    "%matplotlib inline\n",
    "plt.style.use(style='ggplot')"
   ]
  },
  {
   "cell_type": "markdown",
   "metadata": {},
   "source": [
    "___"
   ]
  },
  {
   "cell_type": "markdown",
   "metadata": {},
   "source": [
    "Most data analysis problems can be understood as elaborations on three basic high-level questions:\n",
    "\n",
    "- What do we know about the problem before observing any data?\n",
    "\n",
    "- What conclusions can we draw from data given our prior knowledge?\n",
    "\n",
    "- Do these conclusions make sense?\n",
    "\n",
    "In the probabilistic or Bayesian approach to data science and machine learning, we formalize these in terms of mathematical operations on probability distributions."
   ]
  },
  {
   "cell_type": "markdown",
   "metadata": {},
   "source": [
    "$$p_{\\theta}({\\bf z} | {\\bf x}) = \\frac{p_{\\theta}({\\bf x} , {\\bf z})}{\n",
    "\\int \\! d{\\bf z}\\; p_{\\theta}({\\bf x} , {\\bf z}) }$$"
   ]
  },
  {
   "cell_type": "markdown",
   "metadata": {},
   "source": [
    "Marginal Likelihood or Evidence$$p_{\\theta}({\\bf x}) = \\int \\! d{\\bf z}\\; p_{\\theta}({\\bf x} , {\\bf z})$$"
   ]
  },
  {
   "cell_type": "markdown",
   "metadata": {},
   "source": [
    "$$\\theta_{\\rm{max}} = \\rm{argmax}_\\theta p_{\\theta}({\\bf x}) = \\rm{argmax}_\\theta \\int \\! d{\\bf z}\\; p_{\\theta}({\\bf x} , {\\bf z})$$"
   ]
  },
  {
   "cell_type": "markdown",
   "metadata": {},
   "source": [
    "___"
   ]
  },
  {
   "cell_type": "code",
   "execution_count": 10,
   "metadata": {},
   "outputs": [],
   "source": [
    "data_url = \"https://d2hg8soec8ck9v.cloudfront.net/datasets/rugged_data.csv\""
   ]
  },
  {
   "cell_type": "code",
   "execution_count": 11,
   "metadata": {},
   "outputs": [],
   "source": [
    "data = pd.read_csv(data_url, encoding='ISO-8859-1')"
   ]
  },
  {
   "cell_type": "code",
   "execution_count": 12,
   "metadata": {},
   "outputs": [
    {
     "data": {
      "text/plain": [
       "Index(['isocode', 'isonum', 'country', 'rugged', 'rugged_popw', 'rugged_slope',\n",
       "       'rugged_lsd', 'rugged_pc', 'land_area', 'lat', 'lon', 'soil', 'desert',\n",
       "       'tropical', 'dist_coast', 'near_coast', 'gemstones', 'rgdppc_2000',\n",
       "       'rgdppc_1950_m', 'rgdppc_1975_m', 'rgdppc_2000_m', 'rgdppc_1950_2000_m',\n",
       "       'q_rule_law', 'cont_africa', 'cont_asia', 'cont_europe', 'cont_oceania',\n",
       "       'cont_north_america', 'cont_south_america', 'legor_gbr', 'legor_fra',\n",
       "       'legor_soc', 'legor_deu', 'legor_sca', 'colony_esp', 'colony_gbr',\n",
       "       'colony_fra', 'colony_prt', 'colony_oeu', 'africa_region_n',\n",
       "       'africa_region_s', 'africa_region_w', 'africa_region_e',\n",
       "       'africa_region_c', 'slave_exports', 'dist_slavemkt_atlantic',\n",
       "       'dist_slavemkt_indian', 'dist_slavemkt_saharan', 'dist_slavemkt_redsea',\n",
       "       'pop_1400', 'european_descent'],\n",
       "      dtype='object')"
      ]
     },
     "execution_count": 12,
     "metadata": {},
     "output_type": "execute_result"
    }
   ],
   "source": [
    "data.columns"
   ]
  },
  {
   "cell_type": "code",
   "execution_count": 14,
   "metadata": {},
   "outputs": [],
   "source": [
    "df = data[['cont_africa', 'rugged', 'rgdppc_2000']]"
   ]
  },
  {
   "cell_type": "code",
   "execution_count": 16,
   "metadata": {},
   "outputs": [],
   "source": [
    "df = df[np.isfinite(df.rgdppc_2000)]"
   ]
  },
  {
   "cell_type": "code",
   "execution_count": 17,
   "metadata": {},
   "outputs": [],
   "source": [
    "df['log_rgdppc_2000'] = np.log(df.rgdppc_2000)"
   ]
  },
  {
   "cell_type": "code",
   "execution_count": null,
   "metadata": {},
   "outputs": [],
   "source": []
  }
 ],
 "metadata": {
  "kernelspec": {
   "display_name": "Python 3.10.6 64-bit",
   "language": "python",
   "name": "python3"
  },
  "language_info": {
   "codemirror_mode": {
    "name": "ipython",
    "version": 3
   },
   "file_extension": ".py",
   "mimetype": "text/x-python",
   "name": "python",
   "nbconvert_exporter": "python",
   "pygments_lexer": "ipython3",
   "version": "3.10.6"
  },
  "orig_nbformat": 4,
  "vscode": {
   "interpreter": {
    "hash": "916dbcbb3f70747c44a77c7bcd40155683ae19c65e1c03b4aa3499c5328201f1"
   }
  }
 },
 "nbformat": 4,
 "nbformat_minor": 2
}
