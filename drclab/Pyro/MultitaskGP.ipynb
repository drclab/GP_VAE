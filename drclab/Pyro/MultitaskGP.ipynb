{
 "cells": [
  {
   "cell_type": "markdown",
   "metadata": {},
   "source": [
    "## [Clustered Multitask GP (w/ Pyro/GPyTorch High-Level Interface)](https://docs.gpytorch.ai/en/stable/examples/07_Pyro_Integration/Clustered_Multitask_GP_Regression.html#Clustered-Multitask-GP-(w/-Pyro/GPyTorch-High-Level-Interface))"
   ]
  },
  {
   "cell_type": "markdown",
   "metadata": {},
   "source": [
    "In this example, we use the Pyro integration for a GP model with additional latent variables.\n",
    "\n",
    "We are modelling a multitask GP in this example. Rather than assuming a linear correlation among the different tasks, we assume that there is cluster structure for the different tasks. Let’s assume there are k different clusters of tasks. The generative model for task i is:"
   ]
  },
  {
   "cell_type": "markdown",
   "metadata": {},
   "source": [
    "$$p(\\mathbf y_i \\mid \\mathbf x_i) = \\int \\sum_{z_i=1}^k p(\\mathbf y_i \\mid \\mathbf f (\\mathbf x_i), z_i) \\: p(z_i) \\: p(\\mathbf f (\\mathbf x_i) ) \\: d \\mathbf f$$"
   ]
  },
  {
   "cell_type": "markdown",
   "metadata": {},
   "source": [
    "where $\\mathbf z_i$ is the cluster assignment for task $i$. there are k latent functions $\\mathbf f = [f_1, ..., f_k]$ each modelled by a GP, representing each cluster"
   ]
  },
  {
   "cell_type": "markdown",
   "metadata": {},
   "source": [
    "Our goal is therefore to infer:\n",
    "\n",
    "The latent functions $f_1, …, f_k$\n",
    "The cluster assignments $z_i$ for each task"
   ]
  },
  {
   "cell_type": "code",
   "execution_count": 1,
   "metadata": {},
   "outputs": [],
   "source": [
    "import math\n",
    "import torch\n",
    "import pyro\n",
    "import tqdm\n",
    "import gpytorch"
   ]
  },
  {
   "cell_type": "code",
   "execution_count": 2,
   "metadata": {},
   "outputs": [],
   "source": [
    "from matplotlib import pyplot as plt\n",
    "%matplotlib inline\n",
    "import matplotlib as mpl\n",
    "mpl.rc_file_defaults()"
   ]
  },
  {
   "cell_type": "markdown",
   "metadata": {},
   "source": [
    "Customized Likelihood $\\rightarrow \\sum_{z_i=1}^k p(\\mathbf y_i \\mid \\mathbf f (\\mathbf x_i), z_i) \\: p(z_i)$\n"
   ]
  },
  {
   "cell_type": "markdown",
   "metadata": {},
   "source": [
    "GPyTorch’s likelihoods are capable of modeling additional latent variables. Our custom likelihood needs to define the following three functions:\n",
    "\n",
    "1. pyro_model (needs to call through to super().pyro_model at the end), which defines the prior distribution for additional latent variables\n",
    "\n",
    "2. pyro_guide (needs to call through to super().pyro_guide at the end), which defines the variational (guide) distribution for additional latent variables\n",
    "\n",
    "3. forward, which defines the observation distributions conditioned on $\\mathbf f (\\mathbf x_i)$ and any additional latent variables."
   ]
  },
  {
   "cell_type": "code",
   "execution_count": 3,
   "metadata": {},
   "outputs": [],
   "source": [
    "def pyro_model(self, fun_dist, target):\n",
    "    cluster_assignment_samples = pyro.sample(\n",
    "        self.name_prefix + \".cluster_logits\",\n",
    "        pyro.distributions.OneHotCategorical(logits=self.prior_cluster_logits).to_event(1)\n",
    "    )\n",
    "\n",
    "    return super().pyro_model(\n",
    "        fun_dist,\n",
    "        target,\n",
    "        cluster_assignment_samples = cluster_assignment_samples\n",
    "    )"
   ]
  },
  {
   "cell_type": "code",
   "execution_count": null,
   "metadata": {},
   "outputs": [],
   "source": [
    "def pyro_guide(self, fun_dist, target):\n",
    "    pyro.sample(\n",
    "        self.name_prefix + \".cluster_logits\",\n",
    "        pyro.distributions.OneHotCategorical(logits=self.variational_cluster_logits).to_event(1)\n",
    "    )\n",
    "\n",
    "    return super().pyro_guide(fun_dist, target)"
   ]
  },
  {
   "cell_type": "code",
   "execution_count": null,
   "metadata": {},
   "outputs": [],
   "source": []
  }
 ],
 "metadata": {
  "kernelspec": {
   "display_name": "Python 3.10.6 64-bit",
   "language": "python",
   "name": "python3"
  },
  "language_info": {
   "codemirror_mode": {
    "name": "ipython",
    "version": 3
   },
   "file_extension": ".py",
   "mimetype": "text/x-python",
   "name": "python",
   "nbconvert_exporter": "python",
   "pygments_lexer": "ipython3",
   "version": "3.10.6"
  },
  "orig_nbformat": 4,
  "vscode": {
   "interpreter": {
    "hash": "916dbcbb3f70747c44a77c7bcd40155683ae19c65e1c03b4aa3499c5328201f1"
   }
  }
 },
 "nbformat": 4,
 "nbformat_minor": 2
}
