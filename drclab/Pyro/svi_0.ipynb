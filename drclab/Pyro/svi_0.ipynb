{
 "cells": [
  {
   "cell_type": "markdown",
   "metadata": {},
   "source": [
    "## [SVI Part I: An Introduction to Stochastic Variational Inference in Pyro](http://pyro.ai/examples/svi_part_i.html#SVI-Part-I:-An-Introduction-to-Stochastic-Variational-Inference-in-Pyro)"
   ]
  },
  {
   "cell_type": "code",
   "execution_count": null,
   "metadata": {},
   "outputs": [],
   "source": []
  }
 ],
 "metadata": {
  "language_info": {
   "name": "python"
  },
  "orig_nbformat": 4
 },
 "nbformat": 4,
 "nbformat_minor": 2
}
