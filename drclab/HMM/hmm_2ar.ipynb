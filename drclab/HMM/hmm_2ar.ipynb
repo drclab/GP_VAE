{
 "cells": [
  {
   "cell_type": "code",
   "execution_count": 1,
   "metadata": {},
   "outputs": [],
   "source": [
    "import torch\n",
    "import torch.nn as nn\n",
    "from torch.distributions import constraints\n",
    "\n",
    "import pyro\n",
    "import pyro.contrib.examples.polyphonic_data_loader as poly\n",
    "import pyro.distributions as dist\n",
    "from pyro import poutine\n",
    "from pyro.infer import SVI, JitTraceEnum_ELBO, TraceEnum_ELBO, TraceTMC_ELBO\n",
    "from pyro.infer.autoguide import AutoDelta\n",
    "from pyro.ops.indexing import Vindex\n",
    "from pyro.optim import Adam"
   ]
  },
  {
   "cell_type": "code",
   "execution_count": 2,
   "metadata": {},
   "outputs": [],
   "source": [
    "data = poly.load_data(poly.JSB_CHORALES)"
   ]
  },
  {
   "cell_type": "code",
   "execution_count": 3,
   "metadata": {},
   "outputs": [],
   "source": [
    "seqs = data['train']['sequences']\n",
    "lengths = data['train']['sequence_lengths']"
   ]
  },
  {
   "cell_type": "code",
   "execution_count": 7,
   "metadata": {},
   "outputs": [],
   "source": [
    "hd = 4"
   ]
  },
  {
   "cell_type": "code",
   "execution_count": 12,
   "metadata": {},
   "outputs": [],
   "source": [
    "batch_size = 10"
   ]
  },
  {
   "cell_type": "code",
   "execution_count": 14,
   "metadata": {},
   "outputs": [
    {
     "data": {
      "text/plain": [
       "dict_keys(['__name__', '__doc__', '__package__', '__loader__', '__spec__', '__builtin__', '__builtins__', '_ih', '_oh', '_dh', 'In', 'Out', 'get_ipython', 'exit', 'quit', '_', '__', '___', 'os', 'sys', '__vsc_ipynb_file__', '_i', '_ii', '_iii', '_i1', 'torch', 'nn', 'constraints', 'pyro', 'poly', 'dist', 'poutine', 'SVI', 'JitTraceEnum_ELBO', 'TraceEnum_ELBO', 'TraceTMC_ELBO', 'AutoDelta', 'Vindex', 'Adam', '_i2', 'data', '_i3', 'seqs', 'lengths', '_i4', '_4', '_i5', 'num_seqs', 'max_len', 'data_dim', '_i6', '_i7', 'hd', '_i8', 'probs_x', '_i9', '_9', '_i10', 'probs_y', '_i11', '_11', '_i12', 'batch_size', '_i13', 'tones_plate', '_i14'])"
      ]
     },
     "execution_count": 14,
     "metadata": {},
     "output_type": "execute_result"
    }
   ],
   "source": [
    "globals().keys()"
   ]
  },
  {
   "cell_type": "code",
   "execution_count": 1,
   "metadata": {},
   "outputs": [],
   "source": [
    "def model_2(sequences, lengths, args, batch_size=None, include_prior=True):\n",
    "    with ignore_jit_warnings():\n",
    "        num_sequences, max_length, data_dim = map(int, sequences.shape)\n",
    "        assert lengths.shape == (num_sequences,)\n",
    "        assert lengths.max() <= max_length\n",
    "    with poutine.mask(mask=include_prior):\n",
    "        probs_x = pyro.sample(\n",
    "            \"probs_x\",\n",
    "            dist.Dirichlet(0.9 * torch.eye(args.hidden_dim) + 0.1).to_event(1),\n",
    "        )\n",
    "        probs_y = pyro.sample(\n",
    "            \"probs_y\",\n",
    "            dist.Beta(0.1, 0.9).expand([args.hidden_dim, 2, data_dim]).to_event(3),\n",
    "        )\n",
    "    tones_plate = pyro.plate(\"tones\", data_dim, dim=-1)\n",
    "    with pyro.plate(\"sequences\", num_sequences, batch_size, dim=-2) as batch:\n",
    "        lengths = lengths[batch]\n",
    "        x, y = 0, 0\n",
    "        for t in pyro.markov(range(max_length if args.jit else lengths.max())):\n",
    "            with poutine.mask(mask=(t < lengths).unsqueeze(-1)):\n",
    "                x = pyro.sample(\n",
    "                    \"x_{}\".format(t),\n",
    "                    dist.Categorical(probs_x[x]),\n",
    "                    infer={\"enumerate\": \"parallel\"},\n",
    "                )\n",
    "                # Note the broadcasting tricks here: to index probs_y on tensors x and y,\n",
    "                # we also need a final tensor for the tones dimension. This is conveniently\n",
    "                # provided by the plate associated with that dimension.\n",
    "                with tones_plate as tones:\n",
    "                    y = pyro.sample(\n",
    "                        \"y_{}\".format(t),\n",
    "                        dist.Bernoulli(probs_y[x, y, tones]),\n",
    "                        obs=sequences[batch, t],\n",
    "                    ).long()"
   ]
  },
  {
   "cell_type": "code",
   "execution_count": null,
   "metadata": {},
   "outputs": [],
   "source": []
  }
 ],
 "metadata": {
  "kernelspec": {
   "display_name": "Python 3",
   "language": "python",
   "name": "python3"
  },
  "language_info": {
   "codemirror_mode": {
    "name": "ipython",
    "version": 3
   },
   "file_extension": ".py",
   "mimetype": "text/x-python",
   "name": "python",
   "nbconvert_exporter": "python",
   "pygments_lexer": "ipython3",
   "version": "3.10.6"
  },
  "orig_nbformat": 4,
  "vscode": {
   "interpreter": {
    "hash": "916dbcbb3f70747c44a77c7bcd40155683ae19c65e1c03b4aa3499c5328201f1"
   }
  }
 },
 "nbformat": 4,
 "nbformat_minor": 2
}
