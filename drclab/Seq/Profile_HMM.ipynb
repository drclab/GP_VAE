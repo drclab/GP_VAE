{
 "cells": [
  {
   "attachments": {},
   "cell_type": "markdown",
   "metadata": {},
   "source": [
    "## [Example: Constant + MuE (Profile HMM)](http://pyro.ai/examples/mue_profile.html#example-constant-mue-profile-hmm)"
   ]
  },
  {
   "attachments": {},
   "cell_type": "markdown",
   "metadata": {},
   "source": [
    "### A standard profile HMM model [1], which corresponds to a constant (delta function) distribution with a MuE observation [2]. \n",
    "#### This is a standard generative model of variable-length biological sequences (e.g. proteins) which does not require preprocessing the data by building a multiple sequence alignment (MSA). It can be compared to a more complex MuE model in this package, the FactorMuE."
   ]
  },
  {
   "attachments": {},
   "cell_type": "markdown",
   "metadata": {},
   "source": [
    "### References:\n",
    "[1] R. Durbin, S. R. Eddy, A. Krogh, and G. Mitchison (1998)\n",
    "\"Biological sequence analysis: probabilistic models of proteins and nucleic\n",
    "acids\"\n",
    "Cambridge university press\n",
    "\n",
    "[2] E. N. Weinstein, D. S. Marks (2021)\n",
    "\"A structured observation distribution for generative biological sequence\n",
    "prediction and forecasting\"\n",
    "https://www.biorxiv.org/content/10.1101/2020.07.31.231381v2.full.pdf"
   ]
  },
  {
   "cell_type": "code",
   "execution_count": null,
   "metadata": {},
   "outputs": [],
   "source": [
    "%%sh\n",
    "curl -O https://raw.githubusercontent.com/debbiemarkslab/MuE/master/models/examples/ve6_full.fasta"
   ]
  },
  {
   "attachments": {},
   "cell_type": "markdown",
   "metadata": {},
   "source": [
    "### [einsum - an underestimated function](https://medium.com/towards-data-science/einsum-an-underestimated-function-99ca96e2942e)"
   ]
  },
  {
   "attachments": {},
   "cell_type": "markdown",
   "metadata": {},
   "source": [
    "[Data](https://github.com/debbiemarkslab/MuE/blob/master/models/examples/ve6_full.fasta)"
   ]
  },
  {
   "cell_type": "code",
   "execution_count": null,
   "metadata": {},
   "outputs": [],
   "source": [
    "import json"
   ]
  },
  {
   "cell_type": "code",
   "execution_count": null,
   "metadata": {},
   "outputs": [],
   "source": [
    "import numpy as np\n",
    "import torch\n",
    "from torch.optim import Adam\n",
    "\n",
    "import pyro\n",
    "from mue.dataloaders import BiosequenceDataset\n",
    "from mue.models import ProfileHMM\n",
    "from pyro.optim import MultiStepLR"
   ]
  },
  {
   "attachments": {},
   "cell_type": "markdown",
   "metadata": {},
   "source": [
    "[MuE](https://github.com/pyro-ppl/pyro/tree/dev/pyro/contrib/mue)"
   ]
  },
  {
   "cell_type": "code",
   "execution_count": null,
   "metadata": {},
   "outputs": [],
   "source": [
    "file = './ve6_full.fasta'"
   ]
  },
  {
   "cell_type": "code",
   "execution_count": null,
   "metadata": {},
   "outputs": [],
   "source": [
    "# dataset = BiosequenceDataset(\n",
    "#     file,\n",
    "#     'fasta',\n",
    "#     alphabet= 'amino-acid',\n",
    "#     include_stop=False,\n",
    "#     device='cpu'\n",
    "\n",
    "# )"
   ]
  },
  {
   "attachments": {},
   "cell_type": "markdown",
   "metadata": {},
   "source": [
    "### Generating Small Dataset"
   ]
  },
  {
   "cell_type": "code",
   "execution_count": null,
   "metadata": {},
   "outputs": [],
   "source": [
    "\n",
    "mult_dat = 10\n",
    "seqs = [\"BABBA\"] * mult_dat + [\"BAAB\"] * mult_dat + [\"BABBB\"] * mult_dat\n",
    "dataset = BiosequenceDataset(\n",
    "        seqs, \"list\", \"AB\", include_stop=True, device='cpu'\n",
    "    )"
   ]
  },
  {
   "cell_type": "code",
   "execution_count": null,
   "metadata": {},
   "outputs": [],
   "source": [
    "latent_seq_length = int(dataset.max_length * 1.1)\n",
    "latent_seq_length"
   ]
  },
  {
   "cell_type": "code",
   "execution_count": null,
   "metadata": {},
   "outputs": [],
   "source": [
    "batch_size = 2\n",
    "split = 0.2"
   ]
  },
  {
   "attachments": {},
   "cell_type": "markdown",
   "metadata": {},
   "source": [
    "### Model"
   ]
  },
  {
   "cell_type": "code",
   "execution_count": null,
   "metadata": {},
   "outputs": [],
   "source": [
    "model = ProfileHMM(\n",
    "    latent_seq_length=latent_seq_length,\n",
    "    alphabet_length= dataset.alphabet_length,\n",
    "    prior_scale=1.0,\n",
    "    cuda=False,\n",
    "    indel_prior_bias= 10.0,\n",
    "    pin_memory=False\n",
    ")"
   ]
  },
  {
   "cell_type": "code",
   "execution_count": null,
   "metadata": {},
   "outputs": [],
   "source": [
    "scheduler = MultiStepLR(\n",
    "    {\n",
    "        'optimizer': Adam,\n",
    "        'optim_args': {'lr':0.001},\n",
    "        'milestones': json.loads(\"[]\"),\n",
    "        'gamma': 0.5\n",
    "    }\n",
    ")"
   ]
  },
  {
   "cell_type": "code",
   "execution_count": 13,
   "metadata": {},
   "outputs": [],
   "source": [
    "torch.set_default_dtype(torch.float64)"
   ]
  },
  {
   "cell_type": "code",
   "execution_count": null,
   "metadata": {},
   "outputs": [],
   "source": [
    "losses = model.fit_svi(dataset, \n",
    "                        scheduler=scheduler, \n",
    "                    )"
   ]
  }
 ],
 "metadata": {
  "kernelspec": {
   "display_name": "Python 3",
   "language": "python",
   "name": "python3"
  },
  "language_info": {
   "codemirror_mode": {
    "name": "ipython",
    "version": 3
   },
   "file_extension": ".py",
   "mimetype": "text/x-python",
   "name": "python",
   "nbconvert_exporter": "python",
   "pygments_lexer": "ipython3",
   "version": "3.10.6"
  },
  "orig_nbformat": 4,
  "vscode": {
   "interpreter": {
    "hash": "31f2aee4e71d21fbe5cf8b01ff0e069b9275f58929596ceb00d14d90e3e16cd6"
   }
  }
 },
 "nbformat": 4,
 "nbformat_minor": 2
}
