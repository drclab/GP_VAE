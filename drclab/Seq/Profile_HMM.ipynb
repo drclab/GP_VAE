{
 "cells": [
  {
   "attachments": {},
   "cell_type": "markdown",
   "metadata": {},
   "source": [
    "## [Example: Constant + MuE (Profile HMM)](http://pyro.ai/examples/mue_profile.html#example-constant-mue-profile-hmm)"
   ]
  },
  {
   "attachments": {},
   "cell_type": "markdown",
   "metadata": {},
   "source": [
    "### References:\n",
    "[1] R. Durbin, S. R. Eddy, A. Krogh, and G. Mitchison (1998)\n",
    "\"Biological sequence analysis: probabilistic models of proteins and nucleic\n",
    "acids\"\n",
    "Cambridge university press\n",
    "\n",
    "[2] E. N. Weinstein, D. S. Marks (2021)\n",
    "\"A structured observation distribution for generative biological sequence\n",
    "prediction and forecasting\"\n",
    "https://www.biorxiv.org/content/10.1101/2020.07.31.231381v2.full.pdf"
   ]
  }
 ],
 "metadata": {
  "language_info": {
   "name": "python"
  },
  "orig_nbformat": 4
 },
 "nbformat": 4,
 "nbformat_minor": 2
}
