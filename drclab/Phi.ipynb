{
 "cells": [
  {
   "cell_type": "code",
   "execution_count": 1,
   "metadata": {},
   "outputs": [
    {
     "name": "stderr",
     "output_type": "stream",
     "text": [
      "/home/dulunche/.local/lib/python3.10/site-packages/tqdm/auto.py:22: TqdmWarning: IProgress not found. Please update jupyter and ipywidgets. See https://ipywidgets.readthedocs.io/en/stable/user_install.html\n",
      "  from .autonotebook import tqdm as notebook_tqdm\n"
     ]
    }
   ],
   "source": [
    "import torch\n",
    "import torch.nn as nn\n",
    "import torch.nn.functional as F\n",
    "import torch.optim as optim\n",
    "from torch.nn.parameter import Parameter"
   ]
  },
  {
   "cell_type": "code",
   "execution_count": 2,
   "metadata": {},
   "outputs": [],
   "source": [
    "n_samples = 10\n",
    "in_features = 1 # input domain dimension\n",
    "n_evals = 20 \n",
    "n_centers = 200\n",
    "hidden_dim1 = 20\n",
    "hidden_dim2 = 20\n",
    "out_dims = 200"
   ]
  },
  {
   "cell_type": "code",
   "execution_count": 3,
   "metadata": {},
   "outputs": [],
   "source": [
    "input = torch.randn(n_samples, n_evals, in_features)"
   ]
  },
  {
   "cell_type": "code",
   "execution_count": 4,
   "metadata": {},
   "outputs": [
    {
     "data": {
      "text/plain": [
       "tensor([[[ 6.7556e-02],\n",
       "         [ 9.1803e-01],\n",
       "         [-6.4433e-02],\n",
       "         [-1.3821e+00],\n",
       "         [-2.0123e+00],\n",
       "         [ 3.3144e-01],\n",
       "         [-9.0694e-01],\n",
       "         [-4.2252e-01],\n",
       "         [ 2.6785e-02],\n",
       "         [ 1.3843e+00],\n",
       "         [-5.1262e-01],\n",
       "         [-7.1642e-01],\n",
       "         [ 1.8304e+00],\n",
       "         [-1.4579e+00],\n",
       "         [ 1.5041e+00],\n",
       "         [ 1.0590e+00],\n",
       "         [ 2.0884e-01],\n",
       "         [ 9.8274e-01],\n",
       "         [-4.3373e-01],\n",
       "         [-2.1032e-01]],\n",
       "\n",
       "        [[ 7.1829e-01],\n",
       "         [ 1.9940e-01],\n",
       "         [-3.0913e-01],\n",
       "         [-1.8684e+00],\n",
       "         [ 7.0677e-01],\n",
       "         [ 9.3561e-01],\n",
       "         [ 8.9045e-01],\n",
       "         [ 3.3803e-01],\n",
       "         [-2.0244e+00],\n",
       "         [-7.5614e-01],\n",
       "         [-3.7021e-01],\n",
       "         [-1.8649e+00],\n",
       "         [ 1.0487e+00],\n",
       "         [-2.4970e-01],\n",
       "         [-4.4430e-02],\n",
       "         [ 8.6852e-01],\n",
       "         [-4.6180e-01],\n",
       "         [-4.9683e-01],\n",
       "         [ 1.1824e+00],\n",
       "         [-6.7348e-01]],\n",
       "\n",
       "        [[ 1.0883e+00],\n",
       "         [ 1.0256e+00],\n",
       "         [-1.0175e+00],\n",
       "         [ 3.5052e-01],\n",
       "         [-1.1580e+00],\n",
       "         [ 1.6862e-01],\n",
       "         [-1.5355e-01],\n",
       "         [ 2.6265e-01],\n",
       "         [ 2.0601e+00],\n",
       "         [-1.7727e+00],\n",
       "         [ 1.0069e+00],\n",
       "         [ 4.2853e-01],\n",
       "         [ 6.0143e-01],\n",
       "         [ 1.1358e+00],\n",
       "         [ 8.8780e-01],\n",
       "         [ 6.6648e-01],\n",
       "         [-3.4051e-01],\n",
       "         [-4.7983e-02],\n",
       "         [ 5.0853e-01],\n",
       "         [-1.1512e+00]],\n",
       "\n",
       "        [[ 1.4438e+00],\n",
       "         [ 7.8948e-01],\n",
       "         [ 1.6614e+00],\n",
       "         [-2.9783e+00],\n",
       "         [ 1.5305e+00],\n",
       "         [-6.9231e-01],\n",
       "         [ 1.7766e+00],\n",
       "         [-5.0916e-01],\n",
       "         [-1.7922e-01],\n",
       "         [-9.7303e-01],\n",
       "         [ 8.7857e-02],\n",
       "         [ 6.9249e-01],\n",
       "         [-7.5322e-01],\n",
       "         [ 1.6288e+00],\n",
       "         [-2.3826e-01],\n",
       "         [ 7.0173e-01],\n",
       "         [ 4.8089e-02],\n",
       "         [ 3.2362e-01],\n",
       "         [-1.9554e+00],\n",
       "         [-6.3555e-01]],\n",
       "\n",
       "        [[-2.6081e-01],\n",
       "         [-1.1685e+00],\n",
       "         [ 1.0254e+00],\n",
       "         [ 6.4939e-01],\n",
       "         [-5.6488e-02],\n",
       "         [ 1.4826e+00],\n",
       "         [ 7.6122e-01],\n",
       "         [-1.1688e+00],\n",
       "         [-3.3462e+00],\n",
       "         [-2.0516e-01],\n",
       "         [-9.0552e-01],\n",
       "         [ 6.6562e-02],\n",
       "         [-1.6022e-01],\n",
       "         [ 8.4626e-01],\n",
       "         [-1.7524e-01],\n",
       "         [-6.6501e-01],\n",
       "         [ 4.0338e-02],\n",
       "         [-2.0334e+00],\n",
       "         [ 3.2205e-01],\n",
       "         [-5.2151e-01]],\n",
       "\n",
       "        [[-7.0296e-01],\n",
       "         [ 8.1974e-01],\n",
       "         [ 8.2020e-01],\n",
       "         [-3.1807e-01],\n",
       "         [ 1.3908e-01],\n",
       "         [ 6.0323e-01],\n",
       "         [-3.6023e-01],\n",
       "         [ 1.0675e+00],\n",
       "         [-8.2945e-01],\n",
       "         [ 7.4544e-01],\n",
       "         [ 4.1419e-02],\n",
       "         [-8.1376e-02],\n",
       "         [ 1.8931e+00],\n",
       "         [-1.8909e-03],\n",
       "         [ 4.1070e-01],\n",
       "         [-2.9394e-02],\n",
       "         [ 8.0778e-01],\n",
       "         [ 2.4391e+00],\n",
       "         [-6.0300e-01],\n",
       "         [-7.0119e-01]],\n",
       "\n",
       "        [[-3.2849e-01],\n",
       "         [-1.2593e+00],\n",
       "         [ 3.1447e-01],\n",
       "         [ 9.1487e-01],\n",
       "         [-1.7670e-01],\n",
       "         [ 1.4664e+00],\n",
       "         [-9.1779e-02],\n",
       "         [-5.3815e-01],\n",
       "         [-1.9679e-01],\n",
       "         [ 1.4398e+00],\n",
       "         [-1.2998e+00],\n",
       "         [ 5.2879e-01],\n",
       "         [ 6.1919e-01],\n",
       "         [-8.1387e-01],\n",
       "         [-9.6194e-01],\n",
       "         [ 2.9544e-01],\n",
       "         [ 2.1041e-01],\n",
       "         [-1.3939e+00],\n",
       "         [-1.6021e-01],\n",
       "         [-2.1414e-01]],\n",
       "\n",
       "        [[ 3.7973e-01],\n",
       "         [-1.0094e+00],\n",
       "         [-1.1931e+00],\n",
       "         [-1.0649e+00],\n",
       "         [-7.0823e-01],\n",
       "         [-9.6192e-02],\n",
       "         [-1.1401e+00],\n",
       "         [ 8.1461e-01],\n",
       "         [ 1.9399e-01],\n",
       "         [-1.5961e-02],\n",
       "         [-2.4947e-01],\n",
       "         [-7.1131e-01],\n",
       "         [ 4.8920e-01],\n",
       "         [ 2.5040e-01],\n",
       "         [-2.8303e+00],\n",
       "         [ 1.6774e+00],\n",
       "         [ 4.7898e-01],\n",
       "         [ 8.7822e-02],\n",
       "         [ 1.4569e+00],\n",
       "         [ 4.6235e-03]],\n",
       "\n",
       "        [[-7.3148e-01],\n",
       "         [-1.1141e+00],\n",
       "         [ 1.2020e+00],\n",
       "         [-1.5142e+00],\n",
       "         [ 1.1797e-01],\n",
       "         [-2.7100e-02],\n",
       "         [ 7.4933e-01],\n",
       "         [ 1.5411e+00],\n",
       "         [ 9.0890e-01],\n",
       "         [-8.8852e-02],\n",
       "         [ 6.4032e-01],\n",
       "         [-1.6334e+00],\n",
       "         [ 1.1641e+00],\n",
       "         [ 1.3679e+00],\n",
       "         [ 7.2443e-01],\n",
       "         [-2.2293e-01],\n",
       "         [ 5.9881e-01],\n",
       "         [ 8.7308e-01],\n",
       "         [-4.8243e-01],\n",
       "         [-1.1932e+00]],\n",
       "\n",
       "        [[-1.4796e+00],\n",
       "         [-1.0306e+00],\n",
       "         [-7.1571e-01],\n",
       "         [ 2.0325e-01],\n",
       "         [-5.8050e-01],\n",
       "         [ 6.2206e-02],\n",
       "         [-1.5908e-01],\n",
       "         [-1.0518e+00],\n",
       "         [ 1.0361e+00],\n",
       "         [ 1.3760e+00],\n",
       "         [ 4.7582e-01],\n",
       "         [ 2.5240e-01],\n",
       "         [ 1.5167e+00],\n",
       "         [-9.9097e-01],\n",
       "         [ 1.0464e+00],\n",
       "         [-1.0302e+00],\n",
       "         [-9.2156e-01],\n",
       "         [-1.8459e+00],\n",
       "         [-1.4716e+00],\n",
       "         [ 1.1464e+00]]])"
      ]
     },
     "execution_count": 4,
     "metadata": {},
     "output_type": "execute_result"
    }
   ],
   "source": [
    "input"
   ]
  },
  {
   "cell_type": "code",
   "execution_count": 5,
   "metadata": {},
   "outputs": [],
   "source": [
    "alpha = 1.0"
   ]
  },
  {
   "cell_type": "code",
   "execution_count": 6,
   "metadata": {},
   "outputs": [],
   "source": [
    "alpha = Parameter(torch.tensor(alpha))\n",
    "alpha.requires_grad = True\n"
   ]
  },
  {
   "cell_type": "code",
   "execution_count": 7,
   "metadata": {},
   "outputs": [],
   "source": [
    "centers = Parameter(torch.randn(n_centers, in_features))\n",
    "centers.requires_grad = True"
   ]
  },
  {
   "cell_type": "code",
   "execution_count": 8,
   "metadata": {},
   "outputs": [],
   "source": [
    "linear1 = nn.Linear(n_centers, hidden_dim1)\n",
    "linear2 = nn.Linear(hidden_dim1, hidden_dim2)\n",
    "out = nn.Linear(hidden_dim2, out_dims)"
   ]
  },
  {
   "cell_type": "code",
   "execution_count": 9,
   "metadata": {},
   "outputs": [],
   "source": [
    "x = input"
   ]
  },
  {
   "cell_type": "code",
   "execution_count": 10,
   "metadata": {},
   "outputs": [
    {
     "data": {
      "text/plain": [
       "torch.Size([10, 20, 1])"
      ]
     },
     "execution_count": 10,
     "metadata": {},
     "output_type": "execute_result"
    }
   ],
   "source": [
    "x.shape"
   ]
  },
  {
   "cell_type": "code",
   "execution_count": 11,
   "metadata": {},
   "outputs": [],
   "source": [
    "rbf = torch.exp(-alpha*torch.cdist(x, centers).pow(2))"
   ]
  },
  {
   "cell_type": "code",
   "execution_count": 12,
   "metadata": {},
   "outputs": [
    {
     "data": {
      "text/plain": [
       "torch.Size([10, 20, 200])"
      ]
     },
     "execution_count": 12,
     "metadata": {},
     "output_type": "execute_result"
    }
   ],
   "source": [
    "rbf.shape"
   ]
  },
  {
   "cell_type": "code",
   "execution_count": 13,
   "metadata": {},
   "outputs": [],
   "source": [
    "hidden1 = torch.tanh(linear1(rbf))"
   ]
  },
  {
   "cell_type": "code",
   "execution_count": 14,
   "metadata": {},
   "outputs": [
    {
     "data": {
      "text/plain": [
       "torch.Size([10, 20, 20])"
      ]
     },
     "execution_count": 14,
     "metadata": {},
     "output_type": "execute_result"
    }
   ],
   "source": [
    "hidden1.shape"
   ]
  },
  {
   "cell_type": "code",
   "execution_count": 15,
   "metadata": {},
   "outputs": [],
   "source": [
    "\n",
    "hidden2 = torch.tanh(linear2(hidden1))"
   ]
  },
  {
   "cell_type": "code",
   "execution_count": 16,
   "metadata": {},
   "outputs": [
    {
     "data": {
      "text/plain": [
       "torch.Size([10, 20, 20])"
      ]
     },
     "execution_count": 16,
     "metadata": {},
     "output_type": "execute_result"
    }
   ],
   "source": [
    "hidden2.shape"
   ]
  },
  {
   "cell_type": "code",
   "execution_count": 17,
   "metadata": {},
   "outputs": [],
   "source": [
    "out = out(hidden2)"
   ]
  },
  {
   "cell_type": "code",
   "execution_count": 18,
   "metadata": {},
   "outputs": [
    {
     "data": {
      "text/plain": [
       "torch.Size([10, 20, 200])"
      ]
     },
     "execution_count": 18,
     "metadata": {},
     "output_type": "execute_result"
    }
   ],
   "source": [
    "out.shape"
   ]
  }
 ],
 "metadata": {
  "kernelspec": {
   "display_name": "Python 3.10.6 64-bit",
   "language": "python",
   "name": "python3"
  },
  "language_info": {
   "codemirror_mode": {
    "name": "ipython",
    "version": 3
   },
   "file_extension": ".py",
   "mimetype": "text/x-python",
   "name": "python",
   "nbconvert_exporter": "python",
   "pygments_lexer": "ipython3",
   "version": "3.10.6"
  },
  "orig_nbformat": 4,
  "vscode": {
   "interpreter": {
    "hash": "916dbcbb3f70747c44a77c7bcd40155683ae19c65e1c03b4aa3499c5328201f1"
   }
  }
 },
 "nbformat": 4,
 "nbformat_minor": 2
}
