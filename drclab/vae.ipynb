{
 "cells": [
  {
   "cell_type": "code",
   "execution_count": 2,
   "metadata": {},
   "outputs": [],
   "source": [
    "import torch\n",
    "import torch.nn as nn \n",
    "import torch.nn.functional as F"
   ]
  },
  {
   "cell_type": "code",
   "execution_count": 7,
   "metadata": {},
   "outputs": [],
   "source": [
    "class Encoder(nn.Module):\n",
    "    def __init__(self, input_dim, hidden1_dim, hidden2_dim, z_dim) -> None:\n",
    "        super().__init__()\n",
    "        self.linear1 = nn.Linear(input_dim, hidden1_dim)\n",
    "        self.linear2 = nn.Linear(hidden1_dim, hidden2_dim)\n",
    "        self.mu = nn.Linear(hidden2_dim, z_dim)\n",
    "        self.std = nn.linear(hidden2_dim, z_dim)\n",
    "\n",
    "    def forward(self, x):\n",
    "        hidden1 = torch.tanh(self.linear1(x))\n",
    "        hidden2 = torch.tanh_(self.linear2(hidden1))\n",
    "        z_mu = self.mu(hidden2)\n",
    "        z_std = self.std(hidden2)\n",
    "\n",
    "        return z_mu, z_std"
   ]
  },
  {
   "cell_type": "code",
   "execution_count": 11,
   "metadata": {},
   "outputs": [],
   "source": [
    "class Decoder(nn.Module):\n",
    "    def __init__(self, z_dim, hidden1_dim, hidden2_dim, input_dim) -> None:\n",
    "        super().__init__()\n",
    "        self.linear1 = nn.Linear(z_dim, hidden1_dim)\n",
    "        self.linear2 = nn.Linear(hidden1_dim, hidden2_dim)\n",
    "        self.out = nn.Linear(hidden2_dim, input_dim)\n",
    "\n",
    "    def forward(self, z):\n",
    "        hidden1 = torch.tanh(self.linear1(z))\n",
    "        hidden2 = torch.tanh(self.linear2(hidden1))\n",
    "        pred = self.out(hidden2)\n",
    "\n",
    "        return pred"
   ]
  },
  {
   "cell_type": "code",
   "execution_count": 19,
   "metadata": {},
   "outputs": [],
   "source": [
    "class VAE(nn.Module):\n",
    "    def __init__(self, input_dim, hidden1_dim, hidden2_dim, z_dim) -> None:\n",
    "        super().__init__()\n",
    "        self.encoder = Encoder(input_dim, hidden1_dim, hidden2_dim, z_dim)\n",
    "        self.decoder = Decoder(z_dim, hidden1_dim, hidden2_dim, input_dim)\n",
    "\n",
    "    def reparameterize(self, z_mu, z_std):\n",
    "        if self.training:\n",
    "            sd = torch.exp(z_std / 2)\n",
    "            eps = torch.randn_like(sd)\n",
    "            return eps.mul(sd).add_(z_mu)\n",
    "        else:\n",
    "            return z_mu\n",
    "\n",
    "    def forward(self, x):\n",
    "        z_mu, z_std = self.encoder(x)\n",
    "        z_sample = self.reparameterize(z_mu, z_std)\n",
    "        pred = self.decoder(z_sample)\n",
    "        return pred, z_mu, z_std"
   ]
  }
 ],
 "metadata": {
  "kernelspec": {
   "display_name": "Python 3.10.6 64-bit",
   "language": "python",
   "name": "python3"
  },
  "language_info": {
   "codemirror_mode": {
    "name": "ipython",
    "version": 3
   },
   "file_extension": ".py",
   "mimetype": "text/x-python",
   "name": "python",
   "nbconvert_exporter": "python",
   "pygments_lexer": "ipython3",
   "version": "3.10.6"
  },
  "orig_nbformat": 4,
  "vscode": {
   "interpreter": {
    "hash": "916dbcbb3f70747c44a77c7bcd40155683ae19c65e1c03b4aa3499c5328201f1"
   }
  }
 },
 "nbformat": 4,
 "nbformat_minor": 2
}
